{
 "cells": [
  {
   "cell_type": "markdown",
   "metadata": {},
   "source": [
    "# Perculation Simulation"
   ]
  },
  {
   "cell_type": "markdown",
   "metadata": {},
   "source": [
    "## The drawing table"
   ]
  },
  {
   "cell_type": "markdown",
   "metadata": {},
   "source": [
    "First of all we have to create a grid of size L. With a $p$ probability that each of the squares inside the raster is occupied.\n",
    "We will do this by creating a matrix where all the elements are initially zero and have a chance $p$ to be 1."
   ]
  },
  {
   "cell_type": "code",
   "execution_count": 1,
   "metadata": {},
   "outputs": [],
   "source": [
    "import numpy as np\n",
    "import random\n",
    "import time"
   ]
  },
  {
   "cell_type": "code",
   "execution_count": 2,
   "metadata": {},
   "outputs": [],
   "source": [
    "#this function will give True or False to later determine what elements will be coloured in the grid.\n",
    "def decision(probability):\n",
    "    return random.random() < probability"
   ]
  },
  {
   "cell_type": "code",
   "execution_count": 3,
   "metadata": {},
   "outputs": [],
   "source": [
    "def one_or_zero(el, probability):\n",
    "    if decision(probability):\n",
    "        return 1\n",
    "    else:\n",
    "        return 0"
   ]
  },
  {
   "cell_type": "code",
   "execution_count": 4,
   "metadata": {},
   "outputs": [],
   "source": [
    "def create_world(size,probability):\n",
    "    vector= np.zeros(size**2)  #create vector to make the iteration easier\n",
    "    vector[:] = [one_or_zero(el,probability) for el in vector]   #make certain elements one and zero depending on the prob\n",
    "    return vector.reshape(size,size)    #reshape the vector to a matrix"
   ]
  },
  {
   "cell_type": "code",
   "execution_count": 5,
   "metadata": {},
   "outputs": [
    {
     "data": {
      "text/plain": [
       "array([[1., 0., 0., 0., 1.],\n",
       "       [0., 0., 0., 0., 0.],\n",
       "       [1., 0., 1., 0., 0.],\n",
       "       [0., 0., 1., 0., 0.],\n",
       "       [0., 0., 0., 1., 0.]])"
      ]
     },
     "execution_count": 5,
     "metadata": {},
     "output_type": "execute_result"
    }
   ],
   "source": [
    "M=create_world(5,0.3)\n",
    "M"
   ]
  },
  {
   "cell_type": "code",
   "execution_count": 6,
   "metadata": {},
   "outputs": [],
   "source": [
    "from matplotlib import pyplot as plt\n",
    "from matplotlib import colors\n",
    "\n",
    "def draw_array(M):\n",
    "    cmap = colors.ListedColormap(['White','Red'])\n",
    "    plt.figure(figsize=(5,5))\n",
    "    plt.pcolor(M[::-1],cmap=cmap,edgecolors='k', linewidths=0.1)\n",
    "    plt.show()"
   ]
  },
  {
   "cell_type": "code",
   "execution_count": 7,
   "metadata": {},
   "outputs": [
    {
     "data": {
      "image/png": "[encoded data removed]",
      "text/plain": [
       "<Figure size 360x360 with 1 Axes>"
      ]
     },
     "metadata": {
      "needs_background": "light"
     },
     "output_type": "display_data"
    }
   ],
   "source": [
    "draw_array(M)"
   ]
  },
  {
   "cell_type": "markdown",
   "metadata": {},
   "source": [
    "## How to count?"
   ]
  },
  {
   "cell_type": "markdown",
   "metadata": {},
   "source": [
    "We will now implement an algoritm to count the amount of clusters in the grid. The method I have chosen is the Hoshen and Kopelman algortim."
   ]
  },
  {
   "cell_type": "markdown",
   "metadata": {},
   "source": [
    "The function below returns the number of clusters, the list in where the clusters are counted with their respective number of sites (negative means that this one is 'slorped' by another cluster), the matrix in which the different numbers can be shown,  the number of unoccupied sites and the number of the sites in the largest cluster."
   ]
  },
  {
   "cell_type": "code",
   "execution_count": 10,
   "metadata": {},
   "outputs": [],
   "source": [
    "def occupied(el):\n",
    "    return el==1"
   ]
  },
  {
   "cell_type": "code",
   "execution_count": 17,
   "metadata": {},
   "outputs": [],
   "source": [
    "def Hoshen_and_Kopelman(matrix):\n",
    "    U=np.copy(matrix)\n",
    "    l=2\n",
    "    list=np.zeros(len(matrix)**2)\n",
    "    if occupied(U[0,0]):\n",
    "        U[0,0]=l\n",
    "        list[l]+=1\n",
    "        l+=1\n",
    "    else:\n",
    "        list[0]+=1\n",
    "    for j in range(len(U[0,:])-1): #top row\n",
    "        j+=1\n",
    "        if occupied(U[0,j]):\n",
    "            if U[0,j-1]!=0:         #look left\n",
    "                U[0,j]=U[0,j-1]\n",
    "                list[int(U[0,j-1])]+=1.\n",
    "            else:\n",
    "                U[0,j]=l\n",
    "                list[l]+=1\n",
    "                l+=1\n",
    "        else:\n",
    "            list[0]+=1\n",
    "    for i in range(len(U[0,:])-1):\n",
    "        i+=1\n",
    "        if occupied(U[i,0]):\n",
    "            if U[i-1,0]!=0:           #look up\n",
    "                U[i,0]=U[i-1,0]\n",
    "                list[int(U[i-1,0])]+=1\n",
    "            else:\n",
    "                U[i,0]=l\n",
    "                list[l]+=1\n",
    "                l+=1\n",
    "        else:\n",
    "            list[0]+=1\n",
    "            \n",
    "        for j in range(len(U[:,0])-1):\n",
    "            j+=1\n",
    "            if occupied(U[i,j]):\n",
    "                \n",
    "                if U[(i-1),j]!=0:            #look up\n",
    "                    U[i,j]=U[(i-1),j]\n",
    "                    list[int(U[i-1,j])]+=1\n",
    "                    \n",
    "                    if U[i,j-1]!=0:                #look left\n",
    "                        if U[i-1,j]!=U[i,j-1]:             #look left and up\n",
    "                            list[int(U[i-1,j])]+=list[int(U[i,j-1])]\n",
    "                            list[int(U[i,j-1])]=-int(U[i,j])\n",
    "                            U[U == U[i,j-1]]=U[i-1,j]      #chance value of one cluster to the other\n",
    "\n",
    "                    \n",
    "                elif U[i,j-1]!=0:         #look left\n",
    "                    U[i,j]=U[i,j-1]\n",
    "                    list[int(U[i,j-1])]+=1.\n",
    "                    \n",
    "                else:\n",
    "                    U[i,j]=l\n",
    "                    list[l]+=1\n",
    "                    l+=1\n",
    "            else:\n",
    "                list[0]+=1\n",
    "    number_of_clusters= sum([i>0 for i in list])-1\n",
    "    number_of_unoccupied_sites=list[0]\n",
    "    largest_cluster=max(list[1:])\n",
    "    return [number_of_clusters, list, U, number_of_unoccupied_sites, largest_cluster]"
   ]
  },
  {
   "cell_type": "markdown",
   "metadata": {},
   "source": [
    "## Example"
   ]
  },
  {
   "cell_type": "code",
   "execution_count": 22,
   "metadata": {},
   "outputs": [
    {
     "data": {
      "image/png": "[encoded data removed]",
      "text/plain": [
       "<Figure size 360x360 with 1 Axes>"
      ]
     },
     "metadata": {
      "needs_background": "light"
     },
     "output_type": "display_data"
    }
   ],
   "source": [
    "M=create_world(5,0.4)\n",
    "small_world=Hoshen_and_Kopelman(M)\n",
    "draw_array(M)"
   ]
  },
  {
   "cell_type": "markdown",
   "metadata": {},
   "source": [
    "Number of clusters:"
   ]
  },
  {
   "cell_type": "code",
   "execution_count": 23,
   "metadata": {},
   "outputs": [
    {
     "data": {
      "text/plain": [
       "3"
      ]
     },
     "execution_count": 23,
     "metadata": {},
     "output_type": "execute_result"
    }
   ],
   "source": [
    "small_world[0]"
   ]
  },
  {
   "cell_type": "markdown",
   "metadata": {},
   "source": [
    "## Time"
   ]
  },
  {
   "cell_type": "code",
   "execution_count": 19,
   "metadata": {},
   "outputs": [
    {
     "data": {
      "text/plain": [
       "17.521581888198853"
      ]
     },
     "execution_count": 19,
     "metadata": {},
     "output_type": "execute_result"
    }
   ],
   "source": [
    "M=create_world(500,0.7)\n",
    "# draw_array(M)\n",
    "toc= time.time()\n",
    "HK=Hoshen_and_Kopelman(M)[0]\n",
    "tic = time.time()\n",
    "t=tic-toc\n",
    "t"
   ]
  },
  {
   "cell_type": "code",
   "execution_count": null,
   "metadata": {},
   "outputs": [],
   "source": []
  }
 ],
 "metadata": {
  "kernelspec": {
   "display_name": "Python 3",
   "language": "python",
   "name": "python3"
  },
  "language_info": {
   "codemirror_mode": {
    "name": "ipython",
    "version": 3
   },
   "file_extension": ".py",
   "mimetype": "text/x-python",
   "name": "python",
   "nbconvert_exporter": "python",
   "pygments_lexer": "ipython3",
   "version": "3.7.4"
  }
 },
 "nbformat": 4,
 "nbformat_minor": 2
}
