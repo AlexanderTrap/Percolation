{
 "cells": [
  {
   "cell_type": "markdown",
   "metadata": {},
   "source": [
    "# 3D Perculation Simulation"
   ]
  },
  {
   "cell_type": "markdown",
   "metadata": {},
   "source": [
    "## The drawing table"
   ]
  },
  {
   "cell_type": "markdown",
   "metadata": {},
   "source": [
    "First of all we have to create a grid of size L. With a $p$ probability that each of the squares inside the raster is occupied.\n",
    "We will do this by creating a matrix where all the elements are initially zero and have a chance $p$ to be 1."
   ]
  },
  {
   "cell_type": "code",
   "execution_count": 1,
   "metadata": {},
   "outputs": [],
   "source": [
    "import numpy as np\n",
    "import random\n",
    "import time\n",
    "from scipy.optimize import curve_fit\n",
    "import collections"
   ]
  },
  {
   "cell_type": "code",
   "execution_count": 2,
   "metadata": {},
   "outputs": [],
   "source": [
    "from matplotlib import pyplot as plt\n",
    "from mpl_toolkits.axes_grid1.inset_locator import zoomed_inset_axes\n",
    "from mpl_toolkits.axes_grid1.inset_locator import mark_inset\n",
    "from mpl_toolkits.axes_grid1.inset_locator import inset_axes"
   ]
  },
  {
   "cell_type": "code",
   "execution_count": 3,
   "metadata": {},
   "outputs": [],
   "source": [
    "from numba import jit"
   ]
  },
  {
   "cell_type": "code",
   "execution_count": 4,
   "metadata": {},
   "outputs": [],
   "source": [
    "#this function will give True or False to later determine what elements will be coloured in the grid.\n",
    "@jit(nopython=True)\n",
    "def decision(probability):\n",
    "    return random.random() < probability"
   ]
  },
  {
   "cell_type": "code",
   "execution_count": 5,
   "metadata": {},
   "outputs": [],
   "source": [
    "@jit(nopython=True)\n",
    "def one_or_zero(probability):\n",
    "    if decision(probability):\n",
    "        return 1\n",
    "    else:\n",
    "        return 0"
   ]
  },
  {
   "cell_type": "code",
   "execution_count": 6,
   "metadata": {},
   "outputs": [],
   "source": [
    "@jit(nopython=True)\n",
    "def create_world(size,probability):\n",
    "    field= np.zeros(size**3)  #create vector to make the iteration easier\n",
    "    for i in range(size**3):\n",
    "        field[i]=one_or_zero(probability)     #make certain elements one and zero depending on the prob\n",
    "    return field"
   ]
  },
  {
   "cell_type": "code",
   "execution_count": 8,
   "metadata": {},
   "outputs": [
    {
     "name": "stdout",
     "output_type": "stream",
     "text": [
      "Wall time: 196 ms\n"
     ]
    }
   ],
   "source": [
    "%%time\n",
    "M=create_world(200,1)"
   ]
  },
  {
   "cell_type": "markdown",
   "metadata": {},
   "source": [
    "## How to count?"
   ]
  },
  {
   "cell_type": "markdown",
   "metadata": {},
   "source": [
    "We will now implement an algoritm to count the amount of clusters in the grid. The method I have chosen is the Hoshen and Kopelman algortim."
   ]
  },
  {
   "cell_type": "markdown",
   "metadata": {},
   "source": [
    "The function below returns the number of clusters, the list in where the clusters are counted with their respective number of sites (negative means that this one is 'slorped' by another cluster), the matrix in which the different numbers can be shown,  the number of unoccupied sites and the number of the sites in the largest cluster."
   ]
  },
  {
   "cell_type": "code",
   "execution_count": 9,
   "metadata": {},
   "outputs": [],
   "source": [
    "@jit(nopython=True)\n",
    "def occupied(el):\n",
    "    return el==1"
   ]
  },
  {
   "cell_type": "markdown",
   "metadata": {},
   "source": [
    "In the method we have to keep up with the track of how the cluster size of a cluster. We do this by making a list. Which after several iterations look like this as an example:"
   ]
  },
  {
   "cell_type": "code",
   "execution_count": 10,
   "metadata": {},
   "outputs": [
    {
     "data": {
      "text/plain": [
       "array([3., 0., 3., 2., 1.])"
      ]
     },
     "execution_count": 10,
     "metadata": {},
     "output_type": "execute_result"
    }
   ],
   "source": [
    "np.array([3.,0.,3.,2.,1.])"
   ]
  },
  {
   "cell_type": "markdown",
   "metadata": {},
   "source": [
    "Because of how indexing works in Python. In the above array we have that the amount of zeros is equal to 3. The amount of cluster 2 is 3, cluster 3 is 2 etc..."
   ]
  },
  {
   "cell_type": "markdown",
   "metadata": {},
   "source": [
    "However, when two clusters meet, for example cluster 2 and 3 we merge the two clusters to the cluster of the upper one. The cluster size of 3 is transferred to cluster 2 and cluster two will be pointed to cluster 2.\n",
    "And the list should look the following:"
   ]
  },
  {
   "cell_type": "code",
   "execution_count": 11,
   "metadata": {},
   "outputs": [],
   "source": [
    "y=np.array([3.,0.,5.,-2.,1.])"
   ]
  },
  {
   "cell_type": "markdown",
   "metadata": {},
   "source": [
    "And then when we get a new occupied space that is related to cluster 3, the new zone should be counted for for the 'true label' of cluster 3, which is cluster 2.\n",
    "The following function helps us with that:"
   ]
  },
  {
   "cell_type": "code",
   "execution_count": 12,
   "metadata": {},
   "outputs": [],
   "source": [
    "@jit(nopython=True)\n",
    "def get_true_label(value,lijst):\n",
    "    true_value=value\n",
    "    if lijst[int(value)]>0:\n",
    "        true_value = true_value\n",
    "    else:\n",
    "        true_value=get_true_label(-lijst[int(value)], lijst)\n",
    "        lijst[int(value)]=-true_value\n",
    "    return true_value"
   ]
  },
  {
   "cell_type": "code",
   "execution_count": 13,
   "metadata": {},
   "outputs": [
    {
     "data": {
      "text/plain": [
       "2.0"
      ]
     },
     "execution_count": 13,
     "metadata": {},
     "output_type": "execute_result"
    }
   ],
   "source": [
    "get_true_label(3,y)"
   ]
  },
  {
   "cell_type": "code",
   "execution_count": 14,
   "metadata": {},
   "outputs": [],
   "source": [
    "Y=np.array([3.,0.,5.,-2.,-3.])"
   ]
  },
  {
   "cell_type": "markdown",
   "metadata": {},
   "source": [
    "When the upper cluster $\\textit{already}$ is pointed to another cluster we still et the true label:"
   ]
  },
  {
   "cell_type": "code",
   "execution_count": 15,
   "metadata": {},
   "outputs": [
    {
     "data": {
      "text/plain": [
       "2.0"
      ]
     },
     "execution_count": 15,
     "metadata": {},
     "output_type": "execute_result"
    }
   ],
   "source": [
    "get_true_label(4,Y)"
   ]
  },
  {
   "cell_type": "code",
   "execution_count": 16,
   "metadata": {},
   "outputs": [
    {
     "data": {
      "text/plain": [
       "array([ 3.,  0.,  5., -2., -2.])"
      ]
     },
     "execution_count": 16,
     "metadata": {},
     "output_type": "execute_result"
    }
   ],
   "source": [
    "Y"
   ]
  },
  {
   "cell_type": "markdown",
   "metadata": {},
   "source": [
    "The next function works the same way but instead it returns the value, it returns the cluster size of the 'true label'- cluster. This is needed when the cluster is being assigned, is already pointed to another cluster. "
   ]
  },
  {
   "cell_type": "code",
   "execution_count": 17,
   "metadata": {},
   "outputs": [],
   "source": [
    "@jit(nopython=True)\n",
    "def get_true_label_value(value,lijst):\n",
    "    if lijst[int(value)]>0:\n",
    "        return lijst[int(value)]\n",
    "    else:\n",
    "        return get_true_label_value(-lijst[int(value)], lijst)"
   ]
  },
  {
   "cell_type": "code",
   "execution_count": 18,
   "metadata": {},
   "outputs": [
    {
     "data": {
      "text/plain": [
       "5.0"
      ]
     },
     "execution_count": 18,
     "metadata": {},
     "output_type": "execute_result"
    }
   ],
   "source": [
    "x=np.array([3.,0.,5.,-2.,-2.])\n",
    "get_true_label_value(4,x)"
   ]
  },
  {
   "cell_type": "markdown",
   "metadata": {},
   "source": [
    "Next function counts one for the true cluster if nothing is being merged or anything."
   ]
  },
  {
   "cell_type": "code",
   "execution_count": 19,
   "metadata": {},
   "outputs": [],
   "source": [
    "@jit(nopython=True)\n",
    "def count_true_cluster(cell,lijst):\n",
    "    label=get_true_label(cell,lijst)\n",
    "    lijst[int(label)]+=1"
   ]
  },
  {
   "cell_type": "markdown",
   "metadata": {},
   "source": [
    "Now we have everything for the algoritm."
   ]
  },
  {
   "cell_type": "code",
   "execution_count": 20,
   "metadata": {},
   "outputs": [],
   "source": [
    "@jit(nopython=True)\n",
    "def delete_workaround(arr, num):\n",
    "    mask = np.zeros(arr.shape[0], dtype=np.int64) == 0\n",
    "    mask[np.where(arr == num)[0]] = False\n",
    "    return arr[mask]"
   ]
  },
  {
   "cell_type": "code",
   "execution_count": 21,
   "metadata": {},
   "outputs": [],
   "source": [
    "@jit(nopython=True)\n",
    "def Hoshen_and_Kopelman_2D(array, lijst, O):\n",
    "    U=array\n",
    "    L=int(round(np.sqrt(len(array))))\n",
    "    l=O\n",
    "    \n",
    "    if occupied(U[0]):  #first element\n",
    "        U[0]=l\n",
    "        lijst[l]+=1\n",
    "        l+=1\n",
    "    else:\n",
    "        lijst[0]+=1\n",
    "        \n",
    "    for i in range(L-1): #top row\n",
    "        i+=1\n",
    "        if occupied(U[i]):\n",
    "            if U[i-1]!=0:         #look left\n",
    "                U[i]=U[i-1]\n",
    "                lijst[int(U[i])]+=1\n",
    "            else:\n",
    "                U[i]=l\n",
    "                lijst[l]+=1\n",
    "                l+=1\n",
    "        else:\n",
    "            lijst[0]+=1\n",
    "            \n",
    "    for i in range((L**2-L)):\n",
    "        i+=L                        #skip the first row\n",
    "        if i % L == 0:              #first column does not have to look left\n",
    "            if occupied(U[i]):\n",
    "                if U[i-L]!=0:           #look up\n",
    "                    U[i]=U[i-L]\n",
    "                    count_true_cluster(U[i],lijst)\n",
    "                else:\n",
    "                    U[i]=l\n",
    "                    lijst[l]+=1\n",
    "                    l+=1\n",
    "            else:\n",
    "                lijst[0]+=1\n",
    "\n",
    "\n",
    "        elif occupied(U[i]):                \n",
    "            if U[(i-L)]!=0:            #look up\n",
    "                U[i]=U[i-L]\n",
    "                count_true_cluster(U[i],lijst)\n",
    "\n",
    "                if U[i-1]!=0:             #look left AND up to merge\n",
    "                    if get_true_label(U[i],lijst)!=get_true_label(U[i-1],lijst):  #if both elements are from the same cluster, mer\n",
    "\n",
    "                               #below is the tricky part, we have to add the true label size! of left to cluster of the current one (=cluster of top one)\n",
    "                            lijst[int(get_true_label(U[i],lijst))]+=(get_true_label_value(U[i-1], lijst)) \n",
    "                            lijst[int(get_true_label(U[i-1],lijst))]=-U[i] #and now the true label of left becomes the current one\n",
    "\n",
    "            elif U[i-1]!=0:         #look left\n",
    "                U[i]=U[i-1]\n",
    "                count_true_cluster(U[i],lijst)\n",
    "\n",
    "            else:\n",
    "                U[i]=l\n",
    "                lijst[l]+=1\n",
    "                l+=1\n",
    "        else:\n",
    "            lijst[0]+=1\n",
    "    return l"
   ]
  },
  {
   "cell_type": "code",
   "execution_count": 22,
   "metadata": {
    "pixiedust": {
     "displayParams": {}
    }
   },
   "outputs": [],
   "source": [
    "@jit(nopython=True)\n",
    "def Hoshen_and_Kopelman(array):\n",
    "    U=np.copy(array)\n",
    "    L=int(round(np.power(len(array),1/3)))\n",
    "    \n",
    "    l=2\n",
    "    lijst =np.zeros(round(len(array)/2)+2)\n",
    "    \n",
    "    matrix_1=U[:(L)**2]\n",
    "  \n",
    "    #for the first \"matrix\" we can just use the previous function for 2D\n",
    "    l=Hoshen_and_Kopelman_2D(matrix_1, lijst, l)\n",
    "\n",
    "    for i in range(L**3-L**2):\n",
    "        i+=L**2\n",
    "    \n",
    "    #first element of a 2D_matrix, the upper left one, only has to look behind\n",
    "        if occupied(U[i]):\n",
    "        \n",
    "            if i % L**2==0:\n",
    "                if U[i-L**2]!=0:         #look behind\n",
    "                        U[i]=U[i-L**2]\n",
    "                        count_true_cluster(U[i],lijst)\n",
    "                else:\n",
    "                    U[i]=l\n",
    "                    lijst[l]+=1\n",
    "                    l+=1\n",
    "\n",
    "            elif i % L**2 < L : #top row\n",
    "\n",
    "                if U[i-L**2]!=0:         #look behind\n",
    "                    U[i]=U[i-L**2]\n",
    "                    count_true_cluster(U[i],lijst)\n",
    "                    \n",
    "                    if U[i-1]!=0:             #look behind AND left to merge\n",
    "        \n",
    "                        if get_true_label(U[i],lijst)!=get_true_label(U[i-1],lijst):  #if both elements are from the same cluster, merge\n",
    "\n",
    "                                lijst[int(get_true_label(U[i],lijst))]+=(get_true_label_value(U[i-1], lijst)) \n",
    "                                lijst[int(get_true_label(U[i-1],lijst))]=-U[i] #and now the true label of up becomes the current one                    \n",
    "                \n",
    "                if U[i-1]!=0:    #look left\n",
    "                    U[i]=U[i-1]\n",
    "                    count_true_cluster(U[i],lijst)                    \n",
    "                else:\n",
    "                    U[i]=l\n",
    "                    lijst[l]+=1\n",
    "                    l+=1\n",
    "\n",
    "\n",
    "\n",
    "            elif i % L == 0:              #first column does not have to look left, only behind and up\n",
    "\n",
    "                if U[(i-L**2)]!=0:            #look behind\n",
    "                    U[i]=U[i-L**2]\n",
    "                    count_true_cluster(U[i],lijst)\n",
    "\n",
    "                    if U[i-L]!=0:             #look behind AND up to merge\n",
    "                        if get_true_label(U[i],lijst)!=get_true_label(U[i-L],lijst):  #if both elements are from the same cluster, merge\n",
    "\n",
    "                                lijst[int(get_true_label(U[i],lijst))]+=(get_true_label_value(U[i-L], lijst)) \n",
    "                                lijst[int(get_true_label(U[i-L],lijst))]=-U[i] #and now the true label of up becomes the current one\n",
    "                \n",
    "                elif U[i-L]!=0:         #look up\n",
    "                    U[i]=U[i-L]\n",
    "                    count_true_cluster(U[i],lijst)\n",
    "\n",
    "                else:\n",
    "                        U[i]=l\n",
    "                        lijst[l]+=1\n",
    "                        l+=1\n",
    "\n",
    "            else:                \n",
    "                if U[(i-L**2)]!=0:            #look behind\n",
    "                    U[i]=U[i-L**2]\n",
    "                    count_true_cluster(U[i],lijst)\n",
    "\n",
    "                    if U[i-L]!=0:             #look behind AND up to merge\n",
    "                        if get_true_label(U[i],lijst)!=get_true_label(U[i-L],lijst):  #if both elements are from the same cluster, merge\n",
    "\n",
    "                                lijst[int(get_true_label(U[i],lijst))]+=(get_true_label_value(U[i-L], lijst)) \n",
    "                                lijst[int(get_true_label(U[i-L],lijst))]=-U[i] #and now the true label of up becomes the behind one\n",
    "                                \n",
    "                                if U[i-1]!=0:  #look behind and up AND left\n",
    "                                    if get_true_label(U[i],lijst)!=get_true_label(U[i-1],lijst):\n",
    "                                        lijst[int(get_true_label(U[i],lijst))]+=(get_true_label_value(U[i-1], lijst)) \n",
    "                                        lijst[int(get_true_label(U[i-1],lijst))]=-U[i]\n",
    "\n",
    "                    \n",
    "                    elif U[i-1]!=0:      #look behind AND left   \n",
    "                        if get_true_label(U[i],lijst)!=get_true_label(U[i-1],lijst):\n",
    "\n",
    "                            lijst[int(get_true_label(U[i],lijst))]+=(get_true_label_value(U[i-1], lijst)) \n",
    "                            lijst[int(get_true_label(U[i-1],lijst))]=-U[i] \n",
    "            \n",
    "                elif U[(i-L)]!=0:            #look up\n",
    "                    U[i]=U[i-L]\n",
    "                    count_true_cluster(U[i],lijst)\n",
    "\n",
    "                    if U[i-1]!=0:             #look up AND left to merge\n",
    "                        if get_true_label(U[i],lijst)!=get_true_label(U[i-1],lijst):  #if both elements are from the same cluster, merge\n",
    "\n",
    "                                lijst[int(get_true_label(U[i],lijst))]+=(get_true_label_value(U[i-1], lijst)) \n",
    "                                lijst[int(get_true_label(U[i-1],lijst))]=-U[i] #and now the true label of left becomes the current one\n",
    "                \n",
    "                elif U[i-1]!=0:         #look left\n",
    "                    U[i]=U[i-1]\n",
    "                    count_true_cluster(U[i],lijst)\n",
    "               \n",
    "                else:\n",
    "                    U[i]=l\n",
    "                    lijst[l]+=1\n",
    "                    l+=1\n",
    "        else:\n",
    "            lijst[0]+=1\n",
    "\n",
    "    cluster_sizes_without_largest_one= np.array([i  for i in lijst[1:] if i>0])\n",
    "    cluster_sizes= np.copy(cluster_sizes_without_largest_one) \n",
    "    \n",
    "    number_of_clusters= len(cluster_sizes)\n",
    "    \n",
    "    largest_cluster=np.max(lijst[1:])\n",
    "    \n",
    "    cluster_sizes_without_largest_one=delete_workaround(cluster_sizes,largest_cluster)\n",
    "    \n",
    "    if number_of_clusters != 0:\n",
    "        average_cluster_sizes_without_largest_one= np.sum(np.power(cluster_sizes_without_largest_one,2)) / (number_of_clusters)\n",
    "    else:\n",
    "        average_cluster_sizes_without_largest_one=0\n",
    "        \n",
    "    fraction = largest_cluster/(len(array))\n",
    "    \n",
    "    return number_of_clusters, lijst, largest_cluster, fraction, cluster_sizes, cluster_sizes_without_largest_one, average_cluster_sizes_without_largest_one\n"
   ]
  },
  {
   "cell_type": "code",
   "execution_count": 37,
   "metadata": {},
   "outputs": [
    {
     "name": "stdout",
     "output_type": "stream",
     "text": [
      "Wall time: 1.95 s\n"
     ]
    }
   ],
   "source": [
    "%%time\n",
    "M=create_world(300,0.9)\n",
    "s=Hoshen_and_Kopelman(M)"
   ]
  },
  {
   "cell_type": "markdown",
   "metadata": {},
   "source": [
    "# Order Parameters"
   ]
  },
  {
   "cell_type": "code",
   "execution_count": 38,
   "metadata": {},
   "outputs": [],
   "source": [
    "def func(x, a, b):\n",
    "    return a*(x)**b"
   ]
  },
  {
   "cell_type": "code",
   "execution_count": 39,
   "metadata": {},
   "outputs": [],
   "source": [
    "var_p=np.linspace(0.0001,0.28,10)\n",
    "var_p=np.append(var_p,np.linspace(0.29,0.35,num=20))\n",
    "var_p=np.append(var_p,np.linspace(0.36,1,num=20))\n",
    "# var_p=np.linspace(0.01,0.99,15)"
   ]
  },
  {
   "cell_type": "code",
   "execution_count": 40,
   "metadata": {},
   "outputs": [],
   "source": [
    "@jit(nopython=True)\n",
    "\n",
    "def perculation(x,size):\n",
    "    occupation_fraction=np.zeros(len(x))\n",
    "    average_cluster_size=np.zeros(len(x))\n",
    "    for i in range(len(x)):\n",
    "        U=create_world(size,x[i])\n",
    "        HK=Hoshen_and_Kopelman(U)\n",
    "        occupation_fraction[i]=HK[3]\n",
    "        average_cluster_size[i]=HK[6]\n",
    "    return occupation_fraction, average_cluster_size"
   ]
  },
  {
   "cell_type": "code",
   "execution_count": 41,
   "metadata": {},
   "outputs": [],
   "source": [
    "@jit(nopython=True)\n",
    "def average(x,size, iterations):\n",
    "    count_occupation=np.zeros(len(x))\n",
    "    average_cluster_size=np.zeros(len(x))\n",
    "    for it in range(iterations):\n",
    "        a=perculation(x,size)\n",
    "        count_occupation+=a[0]\n",
    "        average_cluster_size+=a[1]\n",
    "    return count_occupation/iterations, average_cluster_size/iterations"
   ]
  },
  {
   "cell_type": "code",
   "execution_count": 49,
   "metadata": {
    "scrolled": true
   },
   "outputs": [
    {
     "name": "stdout",
     "output_type": "stream",
     "text": [
      "Wall time: 0 ns\n"
     ]
    }
   ],
   "source": [
    "%%time\n",
    "occupation =average(var_p,300, 10)\n",
    "occupation100=average(var_p,100, 30)\n",
    "occupation10=average(var_p,10, 1000)"
   ]
  },
  {
   "cell_type": "markdown",
   "metadata": {},
   "source": [
    "## $P_c$"
   ]
  },
  {
   "cell_type": "code",
   "execution_count": 50,
   "metadata": {},
   "outputs": [],
   "source": [
    "Pinf=occupation[0]"
   ]
  },
  {
   "cell_type": "code",
   "execution_count": 51,
   "metadata": {},
   "outputs": [
    {
     "data": {
      "text/plain": [
       "0.321578947368421"
      ]
     },
     "execution_count": 51,
     "metadata": {},
     "output_type": "execute_result"
    }
   ],
   "source": [
    "id=next(x[0] for x in enumerate(occupation[0]) if x[1] > 0.1)\n",
    "Pc=var_p[id]\n",
    "Pc"
   ]
  },
  {
   "cell_type": "markdown",
   "metadata": {},
   "source": [
    "The percolation threshold we found is 0.3216.\n",
    "This comes fairly close to more profound value of 0.311600 (source:https://en.wikipedia.org/wiki/Percolation_threshold)"
   ]
  },
  {
   "cell_type": "markdown",
   "metadata": {},
   "source": [
    "We will use the more accurate value of Pc for the rest of the calculations."
   ]
  },
  {
   "cell_type": "code",
   "execution_count": 52,
   "metadata": {},
   "outputs": [],
   "source": [
    "Pc=np.float(0.311600)\n",
    "id=next(x[0] for x in enumerate(var_p) if x[1] > Pc)"
   ]
  },
  {
   "cell_type": "code",
   "execution_count": 81,
   "metadata": {},
   "outputs": [
    {
     "data": {
      "image/png": "[encoded data removed]",
      "text/plain": [
       "<Figure size 432x288 with 2 Axes>"
      ]
     },
     "metadata": {
      "needs_background": "light"
     },
     "output_type": "display_data"
    }
   ],
   "source": [
    "fig, ax = plt.subplots() # create a new figure with a default 111 subplot\n",
    "plt.xlabel('p')\n",
    "plt.ylabel('$P_{\\infty}$')\n",
    "plt.ylim([0, 1])\n",
    "ax.plot(var_p,Pinf,label='L=300')\n",
    "ax.plot(var_p,occupation100[0],label='L=100')\n",
    "ax.plot(var_p,occupation10[0],label='L=10')\n",
    "plt.legend(loc='center right')\n",
    "ax.tick_params(axis=\"both\", direction=\"in\", top=True, right=True)\n",
    "\n",
    "# axins = zoomed_inset_axes(ax, 4, loc=2)\n",
    "axins =inset_axes(ax, 1,1 , loc=2,bbox_to_anchor=(0.175, 0.85),bbox_transform=ax.figure.transFigure)\n",
    "axins.plot(var_p,Pinf)\n",
    "axins.plot(var_p,occupation100[0])\n",
    "axins.plot(var_p,occupation10[0])\n",
    "x1, x2, y1, y2 = 0.3, 0.33, 0,0.3 # specify the limits\n",
    "axins.set_xlim(x1, x2) # apply the x-limits\n",
    "axins.set_ylim(y1, y2) # apply the y-limits\n",
    "# plt.yticks(visible=False)\n",
    "# plt.xticks(visible=False)\n",
    "\n",
    "mark_inset(ax, axins, loc1=1, loc2=3, fc=\"none\", ec=\"0.5\")\n",
    "\n",
    "\n",
    "plt.show()"
   ]
  },
  {
   "cell_type": "markdown",
   "metadata": {},
   "source": [
    "# $\\beta$"
   ]
  },
  {
   "cell_type": "code",
   "execution_count": 76,
   "metadata": {},
   "outputs": [
    {
     "name": "stdout",
     "output_type": "stream",
     "text": [
      "Wall time: 52.7 s\n"
     ]
    }
   ],
   "source": [
    "%%time\n",
    "v=np.logspace(-5.0, 0, num=50)+Pc\n",
    "var_exp_pos=np.array([el for el in v if Pc<(el)<1])\n",
    "\n",
    "occupation_exp_pos =average(var_exp_pos,100, 20)"
   ]
  },
  {
   "cell_type": "code",
   "execution_count": 82,
   "metadata": {},
   "outputs": [],
   "source": [
    "Pinf_exp_pos=occupation_exp_pos[0]"
   ]
  },
  {
   "cell_type": "code",
   "execution_count": 280,
   "metadata": {},
   "outputs": [],
   "source": [
    "var_beta=var_exp_pos\n",
    "Pinf_beta=Pinf_exp_pos\n",
    "\n",
    "var_beta_2=var_exp_pos[-12:-5]\n",
    "Pinf_beta_2=Pinf_exp_pos[-12:-5]"
   ]
  },
  {
   "cell_type": "code",
   "execution_count": 479,
   "metadata": {},
   "outputs": [
    {
     "data": {
      "text/plain": [
       "array([0.99373955, 0.42734266])"
      ]
     },
     "execution_count": 479,
     "metadata": {},
     "output_type": "execute_result"
    }
   ],
   "source": [
    "popt, pcov = curve_fit(func, (var_beta_2- Pc),Pinf_beta_2)\n",
    "popt"
   ]
  },
  {
   "cell_type": "code",
   "execution_count": 480,
   "metadata": {},
   "outputs": [
    {
     "data": {
      "image/png": "[encoded data removed]",
      "text/plain": [
       "<Figure size 432x288 with 1 Axes>"
      ]
     },
     "metadata": {
      "needs_background": "light"
     },
     "output_type": "display_data"
    },
    {
     "name": "stdout",
     "output_type": "stream",
     "text": [
      "beta = 0.42734265979813946\n"
     ]
    }
   ],
   "source": [
    "f = plt.figure()\n",
    "ax = f.add_subplot(111)\n",
    "ax.tick_params(axis=\"both\", direction=\"in\", top=True, right=True)\n",
    "\n",
    "plt.scatter(var_beta- Pc,Pinf_beta)\n",
    "plt.plot((var_beta- Pc), func(var_beta- Pc, *popt), '--', color='green')\n",
    "\n",
    "plt.xscale('log')\n",
    "plt.yscale('log')\n",
    "\n",
    "plt.xlim(10**(-5), 1)\n",
    "plt.ylabel('$P_{\\infty} (p)$')\n",
    "plt.xlabel('|Pc-P|')\n",
    "# plt.ylim(0.1, 1)\n",
    "\n",
    "plt.show()\n",
    "print('beta =', popt[1])"
   ]
  },
  {
   "cell_type": "markdown",
   "metadata": {},
   "source": [
    "wiki: 0.41 source(https://en.wikipedia.org/wiki/Percolation_critical_exponents#Exponents_for_standard_percolation)"
   ]
  },
  {
   "cell_type": "markdown",
   "metadata": {},
   "source": [
    "## Average Cluster Size"
   ]
  },
  {
   "cell_type": "code",
   "execution_count": 90,
   "metadata": {},
   "outputs": [],
   "source": [
    "acs=occupation[1]"
   ]
  },
  {
   "cell_type": "code",
   "execution_count": 92,
   "metadata": {},
   "outputs": [
    {
     "data": {
      "image/png": "[encoded data removed]",
      "text/plain": [
       "<Figure size 432x288 with 2 Axes>"
      ]
     },
     "metadata": {
      "needs_background": "light"
     },
     "output_type": "display_data"
    }
   ],
   "source": [
    "fig, ax = plt.subplots() # create a new figure with a default 111 subplot\n",
    "plt.xlabel('p')\n",
    "plt.ylabel('$\\chi$')\n",
    "# plt.ylim([0, 1])\n",
    "ax.plot(var_p,acs,label='L=300')\n",
    "ax.plot(var_p,occupation100[1],label='L=100')\n",
    "ax.plot(var_p,occupation10[1],label='L=10')\n",
    "plt.legend(loc='upper left')\n",
    "\n",
    "plt.ylim(1,10**7)\n",
    "plt.yscale('log')\n",
    "\n",
    "ax.tick_params(axis=\"both\", direction=\"in\", top=True, right=True)\n",
    "\n",
    "axins =inset_axes(ax, 1.5,1.5 , loc=2,bbox_to_anchor=(0.6, 0.8),bbox_transform=ax.figure.transFigure)\n",
    "\n",
    "axins.plot(var_p,acs)\n",
    "axins.plot(var_p,occupation100[1])\n",
    "axins.plot(var_p,occupation10[1])\n",
    "x1, x2, y1, y2 = 0.3, 0.34, 1,1/2*10**5 # specify the limits\n",
    "axins.set_xlim(x1, x2) # apply the x-limits\n",
    "axins.set_ylim(y1, y2) # apply the y-limits\n",
    "axins.set_yscale('log')\n",
    "# plt.yticks(visible=False)\n",
    "# plt.xticks(visible=False)\n",
    "\n",
    "mark_inset(ax, axins, loc1=1, loc2=3, fc=\"none\", ec=\"0.5\")\n",
    "\n",
    "\n",
    "plt.show()"
   ]
  },
  {
   "cell_type": "markdown",
   "metadata": {},
   "source": [
    "## $\\gamma$"
   ]
  },
  {
   "cell_type": "code",
   "execution_count": 93,
   "metadata": {},
   "outputs": [
    {
     "name": "stdout",
     "output_type": "stream",
     "text": [
      "Wall time: 42.6 s\n"
     ]
    }
   ],
   "source": [
    "%%time\n",
    "v=Pc-np.logspace(-5.0, 0, num=50)\n",
    "var_exp_neg=np.array([el for el in v if 0<(el)<Pc])\n",
    "\n",
    "occupation_exp_neg =average(var_exp_neg,100, 20)"
   ]
  },
  {
   "cell_type": "code",
   "execution_count": 94,
   "metadata": {},
   "outputs": [],
   "source": [
    "acs_gamma_pos=occupation_exp_pos[1]\n",
    "acs_gamma_neg=occupation_exp_neg[1]"
   ]
  },
  {
   "cell_type": "code",
   "execution_count": 95,
   "metadata": {},
   "outputs": [],
   "source": [
    "#positive\n",
    "var_gamma_pos=var_exp_pos\n",
    "acs_gamma_pos=acs_gamma_pos\n",
    "\n",
    "#negative\n",
    "var_gamma_neg=var_exp_neg\n",
    "acs_gamma_neg=acs_gamma_neg"
   ]
  },
  {
   "cell_type": "markdown",
   "metadata": {},
   "source": [
    "If we look at the graph below, we have to specify a cut-off value from were we want our function to be fitted."
   ]
  },
  {
   "cell_type": "code",
   "execution_count": 467,
   "metadata": {},
   "outputs": [],
   "source": [
    "xdata=abs(Pc-var_gamma_neg[-12:])\n",
    "ydata=acs_gamma_neg[-12:]"
   ]
  },
  {
   "cell_type": "code",
   "execution_count": 468,
   "metadata": {},
   "outputs": [
    {
     "data": {
      "text/plain": [
       "array([ 0.38768592, -1.78261512])"
      ]
     },
     "execution_count": 468,
     "metadata": {},
     "output_type": "execute_result"
    }
   ],
   "source": [
    "popt, pcov = curve_fit(func, (xdata),ydata)\n",
    "gamma=-popt[1]\n",
    "popt"
   ]
  },
  {
   "cell_type": "code",
   "execution_count": 469,
   "metadata": {},
   "outputs": [
    {
     "data": {
      "image/png": "[encoded data removed]",
      "text/plain": [
       "<Figure size 432x288 with 1 Axes>"
      ]
     },
     "metadata": {
      "needs_background": "light"
     },
     "output_type": "display_data"
    },
    {
     "name": "stdout",
     "output_type": "stream",
     "text": [
      " $\\gamma$= 1.7826151170898414\n"
     ]
    }
   ],
   "source": [
    "f = plt.figure()\n",
    "ax = f.add_subplot(111)\n",
    "ax.tick_params(axis=\"both\", direction=\"in\", top=True, right=True)\n",
    "\n",
    "plt.scatter(var_gamma_pos- Pc,acs_gamma_pos, label='$p>p_c$')\n",
    "plt.scatter(abs(Pc-var_gamma_neg),acs_gamma_neg, label='$p<p_c$')\n",
    "plt.plot(abs(Pc-var_gamma_neg), func(abs(Pc-var_gamma_neg), *popt), '--', color='green')\n",
    "\n",
    "plt.xscale('log')\n",
    "# plt.xlim(10**(-5), 1)\n",
    "\n",
    "plt.yscale('log')\n",
    "plt.xlim(10**(-5), 1)\n",
    "plt.ylim(1,10**7)\n",
    "plt.xlabel('|Pc-P|')\n",
    "plt.ylabel('$\\chi(p)$')\n",
    "plt.legend()\n",
    "plt.show()\n",
    "print(r' $\\gamma$=', gamma)"
   ]
  },
  {
   "cell_type": "markdown",
   "metadata": {},
   "source": [
    "wiki: $\\gamma$=1.793 source: https://en.wikipedia.org/wiki/Percolation_critical_exponents#Exponents_for_standard_percolation"
   ]
  },
  {
   "cell_type": "markdown",
   "metadata": {},
   "source": [
    "## Cluster Number Density"
   ]
  },
  {
   "cell_type": "markdown",
   "metadata": {},
   "source": [
    "The following defined function will use the result of Hoshen and Kopelman of the clusters. With the list of the clusters it will calculate the frequency of the clusters by using a dictionairy. And it wil average out in the end.\n",
    "I see it in a way to reduce 'noise'."
   ]
  },
  {
   "cell_type": "code",
   "execution_count": 164,
   "metadata": {},
   "outputs": [],
   "source": [
    "def cluster_number_density(size, p, iterations):\n",
    "    appearances=collections.defaultdict(int)\n",
    "    \n",
    "    for i in range(iterations):\n",
    "        M=create_world(size,p)\n",
    "        HK=Hoshen_and_Kopelman(M)\n",
    "        for curr in HK[4]:\n",
    "            appearances[curr] += 1\n",
    "            \n",
    "    data = list(appearances.items())\n",
    "    \n",
    "    an_array = np.array(data)\n",
    "    an_array[:,1]=an_array[:,1]/(size)**3\n",
    "\n",
    "    an_array=an_array[np.argsort(an_array[:,0])]\n",
    "    an_array[:,1]=an_array[:,1]/iterations\n",
    "    \n",
    "    return an_array"
   ]
  },
  {
   "cell_type": "code",
   "execution_count": 268,
   "metadata": {},
   "outputs": [
    {
     "name": "stdout",
     "output_type": "stream",
     "text": [
      "Wall time: 27.6 s\n"
     ]
    }
   ],
   "source": [
    "%%time\n",
    "size=200\n",
    "cnd1_=cluster_number_density(size,0.15,10)\n",
    "cnd2_=cluster_number_density(size,0.2,10)\n",
    "cnd3_=cluster_number_density(size,0.25,10)\n",
    "cnd4_=cluster_number_density(size,0.3,10)"
   ]
  },
  {
   "cell_type": "code",
   "execution_count": 286,
   "metadata": {},
   "outputs": [],
   "source": [
    "#if a cluster only comes one time after a few iterations\n",
    "#it only brings the average down a lot and does not contribute well to the average\n",
    "#this function will skip if a cluster size only appears once during the loop\n",
    "def skip_ones(cnd, treshold=1/(200)**3):\n",
    "    result=np.array([])\n",
    "    for el in (cnd):\n",
    "        if el[1]>treshold:\n",
    "            result=np.append(result,[el])\n",
    "    return result.reshape(int(len(result)/2),2)"
   ]
  },
  {
   "cell_type": "code",
   "execution_count": 288,
   "metadata": {},
   "outputs": [],
   "source": [
    "cnd1=skip_ones(cnd1_)\n",
    "cnd2=skip_ones(cnd2_)\n",
    "cnd3=skip_ones(cnd3_)\n",
    "cnd4=skip_ones(cnd4_)"
   ]
  },
  {
   "cell_type": "code",
   "execution_count": 289,
   "metadata": {},
   "outputs": [
    {
     "data": {
      "image/png": "[encoded data removed]",
      "text/plain": [
       "<Figure size 432x288 with 1 Axes>"
      ]
     },
     "metadata": {
      "needs_background": "light"
     },
     "output_type": "display_data"
    }
   ],
   "source": [
    "plt.plot(cnd1[:,0],cnd1[:,1],label='p=0.15')\n",
    "plt.plot(cnd2[:,0],cnd2[:,1],label='p=0.2')\n",
    "plt.plot(cnd3[:,0],cnd3[:,1],label='p=0.25')\n",
    "plt.plot(cnd4[:,0],cnd4[:,1],label='p=0.3')\n",
    "# plt.plot(10,1/(200**2),'o')\n",
    "plt.yscale('log')\n",
    "plt.ylim(10**-7, 1)\n",
    "plt.xlim(1, 10**4)\n",
    "plt.xscale('log')\n",
    "plt.xlabel('s')\n",
    "plt.ylabel('n(s,p)')\n",
    "plt.legend()\n",
    "plt.show()"
   ]
  },
  {
   "cell_type": "code",
   "execution_count": 274,
   "metadata": {},
   "outputs": [],
   "source": [
    "from scipy.stats import binned_statistic"
   ]
  },
  {
   "cell_type": "code",
   "execution_count": 470,
   "metadata": {},
   "outputs": [
    {
     "data": {
      "image/png": "[encoded data removed]",
      "text/plain": [
       "<Figure size 432x288 with 1 Axes>"
      ]
     },
     "metadata": {
      "needs_background": "light"
     },
     "output_type": "display_data"
    }
   ],
   "source": [
    "fig, ax = plt.subplots()\n",
    "\n",
    "binnetjes=50\n",
    "x=cnd1[:,0]\n",
    "y=cnd1[:,1]\n",
    "s, edges, _ = binned_statistic(x,y, statistic='mean', bins=np.logspace(0,5,binnetjes))\n",
    "ys = np.repeat(s,2)\n",
    "xs = np.repeat(edges,2)[1:-1]\n",
    "ax.scatter(edges[:-1]+np.diff(edges)/2, s, label='p=0.15')\n",
    "\n",
    "x=cnd2[:,0]\n",
    "y=cnd2[:,1]\n",
    "s, edges, _ = binned_statistic(x,y, statistic='mean', bins=np.logspace(0,5,binnetjes))\n",
    "ys = np.repeat(s,2)\n",
    "xs = np.repeat(edges,2)[1:-1]\n",
    "ax.scatter(edges[:-1]+np.diff(edges)/2, s,label='p=0.2')\n",
    "\n",
    "x=cnd3[:,0]\n",
    "y=cnd3[:,1]\n",
    "s, edges, _ = binned_statistic(x,y, statistic='mean', bins=np.logspace(0,5,binnetjes))\n",
    "ys = np.repeat(s,2)\n",
    "xs = np.repeat(edges,2)[1:-1]\n",
    "ax.scatter(edges[:-1]+np.diff(edges)/2, s,label='p=0.25')\n",
    "\n",
    "x=cnd4[:,0]\n",
    "y=cnd4[:,1]\n",
    "s, edges, _ = binned_statistic(x,y, statistic='mean', bins=np.logspace(0,5,binnetjes))\n",
    "ys = np.repeat(s,2)\n",
    "xs = np.repeat(edges,2)[1:-1]\n",
    "ax.scatter(edges[:-1]+np.diff(edges)/2, s,label='p=0.3')\n",
    "\n",
    "plt.ylim(10**-7, 1)\n",
    "plt.xlim(1, 10**3)\n",
    "plt.xlabel('s')\n",
    "plt.ylabel('n(s,p)')\n",
    "ax.set_xscale(\"log\")\n",
    "ax.set_yscale(\"log\")\n",
    "plt.legend()\n",
    "plt.show()"
   ]
  },
  {
   "cell_type": "markdown",
   "metadata": {},
   "source": [
    "## $\\tau$"
   ]
  },
  {
   "cell_type": "code",
   "execution_count": 276,
   "metadata": {},
   "outputs": [],
   "source": [
    "cnd_=cluster_number_density(100,Pc,100)"
   ]
  },
  {
   "cell_type": "code",
   "execution_count": 300,
   "metadata": {},
   "outputs": [],
   "source": [
    "cnd=skip_ones(cnd_,10/200**3);"
   ]
  },
  {
   "cell_type": "code",
   "execution_count": 347,
   "metadata": {},
   "outputs": [],
   "source": [
    "x=cnd[:,0]\n",
    "y=cnd[:,1]\n",
    "s, edges, _ = binned_statistic(x,y, statistic='mean', bins=np.logspace(0,5,binnetjes))\n",
    "xs = np.repeat(s,2)\n",
    "ys = np.repeat(edges,2)[1:-1]\n",
    "\n",
    "S=edges[:-1]+np.diff(edges)/2\n",
    "N=s"
   ]
  },
  {
   "cell_type": "code",
   "execution_count": 376,
   "metadata": {},
   "outputs": [],
   "source": [
    "import math\n",
    "def skip_nan(S,N):\n",
    "    s=np.array([])\n",
    "    n=np.array([])\n",
    "    for ind, el in enumerate(N):\n",
    "        if math.isnan(el)==False:\n",
    "            n=np.append(n,el)\n",
    "            s=np.append(s,S[ind])\n",
    "    return s, n"
   ]
  },
  {
   "cell_type": "code",
   "execution_count": 430,
   "metadata": {},
   "outputs": [],
   "source": [
    "[s_,n_]=skip_nan(S,N)\n",
    "xdata_tau=s_[13:]\n",
    "ydata_tau=n_[13:]"
   ]
  },
  {
   "cell_type": "code",
   "execution_count": 474,
   "metadata": {},
   "outputs": [],
   "source": [
    "popt, pcov = curve_fit(func, xdata_tau, ydata_tau)\n",
    "tau=-popt[1]"
   ]
  },
  {
   "cell_type": "code",
   "execution_count": 475,
   "metadata": {},
   "outputs": [
    {
     "data": {
      "image/png": "[encoded data removed]",
      "text/plain": [
       "<Figure size 432x288 with 1 Axes>"
      ]
     },
     "metadata": {
      "needs_background": "light"
     },
     "output_type": "display_data"
    },
    {
     "name": "stdout",
     "output_type": "stream",
     "text": [
      "tau = 2.099047534886615\n"
     ]
    }
   ],
   "source": [
    "plt.loglog(s_,n_,'.',label='p=Pc')\n",
    "plt.loglog(s_, func(s_, *popt), 'g--')\n",
    "plt.xlim(1,150)\n",
    "plt.ylim(10**-7,0.1)\n",
    "plt.xlabel('s')\n",
    "plt.ylabel('n(s,p)')\n",
    "plt.legend()\n",
    "plt.show()\n",
    "print('tau =', tau)"
   ]
  },
  {
   "cell_type": "markdown",
   "metadata": {},
   "source": [
    "wiki: tau = 2.189 (source: https://en.wikipedia.org/wiki/Percolation_critical_exponents#Exponents_for_standard_percolation)"
   ]
  }
 ],
 "metadata": {
  "kernelspec": {
   "display_name": "Python 3",
   "language": "python",
   "name": "python3"
  },
  "language_info": {
   "codemirror_mode": {
    "name": "ipython",
    "version": 3
   },
   "file_extension": ".py",
   "mimetype": "text/x-python",
   "name": "python",
   "nbconvert_exporter": "python",
   "pygments_lexer": "ipython3",
   "version": "3.7.1"
  }
 },
 "nbformat": 4,
 "nbformat_minor": 2
}
