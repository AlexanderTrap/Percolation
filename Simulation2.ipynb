{
 "cells": [
  {
   "cell_type": "markdown",
   "metadata": {},
   "source": [
    "# Perculation Simulation"
   ]
  },
  {
   "cell_type": "markdown",
   "metadata": {},
   "source": [
    "## The drawing table"
   ]
  },
  {
   "cell_type": "markdown",
   "metadata": {},
   "source": [
    "First of all we have to create a grid of size L. With a $p$ probability that each of the squares inside the raster is occupied.\n",
    "We will do this by creating a matrix where all the elements are initially zero and have a chance $p$ to be 1."
   ]
  },
  {
   "cell_type": "code",
   "execution_count": 1,
   "metadata": {},
   "outputs": [],
   "source": [
    "import numpy as np\n",
    "import random\n",
    "import time"
   ]
  },
  {
   "cell_type": "code",
   "execution_count": 2,
   "metadata": {},
   "outputs": [
    {
     "name": "stdout",
     "output_type": "stream",
     "text": [
      "Pixiedust database opened successfully\n"
     ]
    },
    {
     "data": {
      "text/html": [
       "\n",
       "        <div style=\"margin:10px\">\n",
       "            <a href=\"https://github.com/ibm-watson-data-lab/pixiedust\" target=\"_new\">\n",
       "                <img src=\"https://github.com/ibm-watson-data-lab/pixiedust/raw/master/docs/_static/pd_icon32.png\" style=\"float:left;margin-right:10px\"/>\n",
       "            </a>\n",
       "            <span>Pixiedust version 1.1.18</span>\n",
       "        </div>\n",
       "        "
      ],
      "text/plain": [
       "<IPython.core.display.HTML object>"
      ]
     },
     "metadata": {},
     "output_type": "display_data"
    }
   ],
   "source": [
    "import pixiedust"
   ]
  },
  {
   "cell_type": "code",
   "execution_count": 3,
   "metadata": {},
   "outputs": [],
   "source": [
    "#this function will give True or False to later determine what elements will be coloured in the grid.\n",
    "def decision(probability):\n",
    "    return random.random() < probability"
   ]
  },
  {
   "cell_type": "code",
   "execution_count": 4,
   "metadata": {},
   "outputs": [],
   "source": [
    "def one_or_zero(el, probability):\n",
    "    if decision(probability):\n",
    "        return 1\n",
    "    else:\n",
    "        return 0"
   ]
  },
  {
   "cell_type": "code",
   "execution_count": 5,
   "metadata": {},
   "outputs": [],
   "source": [
    "def create_world(size,probability):\n",
    "    vector= np.zeros(size**2)  #create vector to make the iteration easier\n",
    "    vector[:] = [one_or_zero(el,probability) for el in vector]   #make certain elements one and zero depending on the prob\n",
    "    return vector.reshape(size,size)    #reshape the vector to a matrix"
   ]
  },
  {
   "cell_type": "code",
   "execution_count": 6,
   "metadata": {},
   "outputs": [
    {
     "data": {
      "text/plain": [
       "array([[0., 0., 0., 1., 0.],\n",
       "       [1., 1., 1., 1., 1.],\n",
       "       [0., 0., 0., 0., 1.],\n",
       "       [1., 1., 1., 0., 1.],\n",
       "       [1., 1., 1., 1., 0.]])"
      ]
     },
     "execution_count": 6,
     "metadata": {},
     "output_type": "execute_result"
    }
   ],
   "source": [
    "M=create_world(5,0.7)\n",
    "M"
   ]
  },
  {
   "cell_type": "code",
   "execution_count": 7,
   "metadata": {},
   "outputs": [],
   "source": [
    "from matplotlib import pyplot as plt\n",
    "from matplotlib import colors\n",
    "\n",
    "def draw_array(M):\n",
    "    cmap = colors.ListedColormap(['White','Red'])\n",
    "    plt.figure(figsize=(5,5))\n",
    "    plt.pcolor(M[::-1],cmap=cmap,edgecolors='k', linewidths=0.1)\n",
    "    plt.show()"
   ]
  },
  {
   "cell_type": "code",
   "execution_count": 8,
   "metadata": {},
   "outputs": [
    {
     "data": {
      "image/png": "[encoded data removed]",
      "text/plain": [
       "<Figure size 360x360 with 1 Axes>"
      ]
     },
     "metadata": {
      "needs_background": "light"
     },
     "output_type": "display_data"
    }
   ],
   "source": [
    "draw_array(M)"
   ]
  },
  {
   "cell_type": "markdown",
   "metadata": {},
   "source": [
    "## How to count?"
   ]
  },
  {
   "cell_type": "markdown",
   "metadata": {},
   "source": [
    "We will now implement an algoritm to count the amount of clusters in the grid. The method I have chosen is the Hoshen and Kopelman algortim."
   ]
  },
  {
   "cell_type": "markdown",
   "metadata": {},
   "source": [
    "The function below returns the number of clusters, the list in where the clusters are counted with their respective number of sites (negative means that this one is 'slorped' by another cluster), the matrix in which the different numbers can be shown,  the number of unoccupied sites and the number of the sites in the largest cluster."
   ]
  },
  {
   "cell_type": "code",
   "execution_count": 9,
   "metadata": {},
   "outputs": [],
   "source": [
    "def occupied(el):\n",
    "    return el==1"
   ]
  },
  {
   "cell_type": "markdown",
   "metadata": {},
   "source": [
    "In the method we have to keep up with the track of how the cluster size of a cluster. We do this by making a list. Which after several iterations look like this as an example:"
   ]
  },
  {
   "cell_type": "code",
   "execution_count": 10,
   "metadata": {},
   "outputs": [
    {
     "data": {
      "text/plain": [
       "array([3., 0., 3., 2., 1.])"
      ]
     },
     "execution_count": 10,
     "metadata": {},
     "output_type": "execute_result"
    }
   ],
   "source": [
    "np.array([3.,0.,3.,2.,1.])"
   ]
  },
  {
   "cell_type": "markdown",
   "metadata": {},
   "source": [
    "Because of how indexing works in Python. In the above array we have that the amount of zeros is equal to 3. The amount of cluster 2 is 3, cluster 3 is 2 etc..."
   ]
  },
  {
   "cell_type": "markdown",
   "metadata": {},
   "source": [
    "However, when two clusters meet, for example cluster 2 and 3 we merge the two clusters to the cluster of the upper one. The cluster size of 3 is transferred to cluster 2 and cluster two will be pointed to cluster 2.\n",
    "And the list should look the following:"
   ]
  },
  {
   "cell_type": "code",
   "execution_count": 11,
   "metadata": {},
   "outputs": [],
   "source": [
    "y=np.array([3.,0.,5.,-2.,1.])"
   ]
  },
  {
   "cell_type": "markdown",
   "metadata": {},
   "source": [
    "And then when we get a new occupied space that is related to cluster 3, the new zone should be counted for for the 'true label' of cluster 3, which is cluster 2.\n",
    "The following function helps us with that:"
   ]
  },
  {
   "cell_type": "code",
   "execution_count": 12,
   "metadata": {},
   "outputs": [],
   "source": [
    "def get_true_label(value,lijst):\n",
    "    if lijst[int(value)]>0:\n",
    "        return value\n",
    "    else:\n",
    "        return get_true_label(-lijst[int(value)], lijst)"
   ]
  },
  {
   "cell_type": "code",
   "execution_count": 13,
   "metadata": {},
   "outputs": [
    {
     "data": {
      "text/plain": [
       "2.0"
      ]
     },
     "execution_count": 13,
     "metadata": {},
     "output_type": "execute_result"
    }
   ],
   "source": [
    "get_true_label(3,y)"
   ]
  },
  {
   "cell_type": "markdown",
   "metadata": {},
   "source": [
    "When the upper cluster $\\textit{already}$ is pointed to another cluster we still et the true label:"
   ]
  },
  {
   "cell_type": "code",
   "execution_count": 14,
   "metadata": {},
   "outputs": [
    {
     "data": {
      "text/plain": [
       "2.0"
      ]
     },
     "execution_count": 14,
     "metadata": {},
     "output_type": "execute_result"
    }
   ],
   "source": [
    "get_true_label(4,np.array([3.,0.,5.,-2.,-3.]))"
   ]
  },
  {
   "cell_type": "markdown",
   "metadata": {},
   "source": [
    "The next function works the same way but instead it returns the value, it returns the cluster size of the 'true label'- cluster. This is needed when the cluster is being assigned, is already pointed to another cluster. "
   ]
  },
  {
   "cell_type": "code",
   "execution_count": 15,
   "metadata": {},
   "outputs": [],
   "source": [
    "def get_true_label_value(value,lijst):\n",
    "    if lijst[int(value)]>0:\n",
    "        return lijst[int(value)]\n",
    "    else:\n",
    "        return get_true_label_value(-lijst[int(value)], lijst)"
   ]
  },
  {
   "cell_type": "code",
   "execution_count": 16,
   "metadata": {},
   "outputs": [
    {
     "data": {
      "text/plain": [
       "5.0"
      ]
     },
     "execution_count": 16,
     "metadata": {},
     "output_type": "execute_result"
    }
   ],
   "source": [
    "x=np.array([3.,0.,5.,-2.,-2.])\n",
    "get_true_label_value(4,x)"
   ]
  },
  {
   "cell_type": "markdown",
   "metadata": {},
   "source": [
    "Next function counts one for the true cluster if nothing is being merged or anything."
   ]
  },
  {
   "cell_type": "code",
   "execution_count": 17,
   "metadata": {},
   "outputs": [],
   "source": [
    "def count_true_cluster(cell,lijst):\n",
    "    label=get_true_label(cell,lijst)\n",
    "    lijst[int(label)]+=1"
   ]
  },
  {
   "cell_type": "markdown",
   "metadata": {},
   "source": [
    "Now we have everything for the algoritm."
   ]
  },
  {
   "cell_type": "code",
   "execution_count": 18,
   "metadata": {
    "pixiedust": {
     "displayParams": {}
    }
   },
   "outputs": [
    {
     "data": {
      "text/plain": [
       "[2,\n",
       " array([10.,  0.,  8., -2.,  7.,  0.,  0.,  0.,  0.,  0.,  0.,  0.]),\n",
       " array([[0., 0., 0., 2., 0.],\n",
       "        [3., 3., 3., 2., 2.],\n",
       "        [0., 0., 0., 0., 2.],\n",
       "        [4., 4., 4., 0., 2.],\n",
       "        [4., 4., 4., 4., 0.]]),\n",
       " 10.0,\n",
       " 8.0,\n",
       " 0.32]"
      ]
     },
     "execution_count": 18,
     "metadata": {},
     "output_type": "execute_result"
    }
   ],
   "source": [
    "def Hoshen_and_Kopelman(matrix):\n",
    "    U=np.copy(matrix)\n",
    "    l=2\n",
    "    lijst =np.zeros(round((len(matrix)**2)/2))\n",
    "    if occupied(U[0,0]):  #first element\n",
    "        U[0,0]=l\n",
    "        lijst[l]+=1\n",
    "        l+=1\n",
    "    else:\n",
    "        lijst[0]+=1\n",
    "        \n",
    "    for j in range(len(U[0,:])-1): #top row\n",
    "        j+=1\n",
    "        if occupied(U[0,j]):\n",
    "            if U[0,j-1]!=0:         #look left\n",
    "                U[0,j]=U[0,j-1]\n",
    "                lijst[int(U[0,j-1])]+=1.\n",
    "            else:\n",
    "                U[0,j]=l\n",
    "                lijst[l]+=1\n",
    "                l+=1\n",
    "        else:\n",
    "            lijst[0]+=1\n",
    "    for i in range(len(U[0,:])-1):\n",
    "        i+=1\n",
    "        for j in range(len(U[:,0])):\n",
    "            if j==0:                           #first column does not have to look left\n",
    "                if occupied(U[i,0]):\n",
    "                    if U[i-1,0]!=0:           #look up\n",
    "                        U[i,0]=U[i-1,0]\n",
    "                        count_true_cluster(U[i,0],lijst)\n",
    "                    else:\n",
    "                        U[i,0]=l\n",
    "                        lijst[l]+=1\n",
    "                        l+=1\n",
    "                else:\n",
    "                    lijst[0]+=1\n",
    "            \n",
    "\n",
    "            elif occupied(U[i,j]):                \n",
    "                if U[(i-1),j]!=0:            #look up\n",
    "                    U[i,j]=U[i-1,j]\n",
    "                    count_true_cluster(U[i,j],lijst)\n",
    "                        \n",
    "                    if U[i,j-1]!=0:             #look left AND right to merge\n",
    "                        if get_true_label(U[i,j],lijst)!=get_true_label(U[i,j-1],lijst):  #if both elements are from the same cluster, mer\n",
    "                                \n",
    "#                               #below is the tricky part, we have to add the true label size! of left to cluster of the current one (=cluster of top one)\n",
    "                                lijst[int(get_true_label(U[i,j],lijst))]+=(get_true_label_value(U[i,j-1], lijst)) \n",
    "                                lijst[int(get_true_label(U[i,j-1],lijst))]=-U[i,j] #and now the true label of left becomes the current one\n",
    "             \n",
    "                elif U[i,j-1]!=0:         #look left\n",
    "                    U[i,j]=U[i,j-1]\n",
    "                    count_true_cluster(U[i,j],lijst)\n",
    "                    \n",
    "                else:\n",
    "                    U[i,j]=l\n",
    "                    lijst[l]+=1\n",
    "                    l+=1\n",
    "            else:\n",
    "                lijst[0]+=1\n",
    "          \n",
    "        \n",
    "    number_of_clusters= sum([i>0 for i in lijst[1:]])\n",
    "    number_of_unoccupied_sites=lijst[0]\n",
    "    largest_cluster=max(lijst[1:])\n",
    "    fraction=largest_cluster/(len(matrix)**2)\n",
    "    return [number_of_clusters, lijst, U, number_of_unoccupied_sites, largest_cluster, fraction]\n",
    "\n",
    "Hoshen_and_Kopelman(M)"
   ]
  },
  {
   "cell_type": "markdown",
   "metadata": {},
   "source": [
    "## Example"
   ]
  },
  {
   "cell_type": "code",
   "execution_count": 19,
   "metadata": {
    "pixiedust": {
     "displayParams": {}
    }
   },
   "outputs": [
    {
     "data": {
      "image/png": "[encoded data removed]",
      "text/plain": [
       "<Figure size 360x360 with 1 Axes>"
      ]
     },
     "metadata": {
      "needs_background": "light"
     },
     "output_type": "display_data"
    }
   ],
   "source": [
    "M=create_world(10,0.6)\n",
    "small_world=Hoshen_and_Kopelman(M)\n",
    "draw_array(M)"
   ]
  },
  {
   "cell_type": "markdown",
   "metadata": {},
   "source": [
    "Number of clusters:"
   ]
  },
  {
   "cell_type": "code",
   "execution_count": 20,
   "metadata": {},
   "outputs": [
    {
     "data": {
      "text/plain": [
       "7"
      ]
     },
     "execution_count": 20,
     "metadata": {},
     "output_type": "execute_result"
    }
   ],
   "source": [
    "small_world[0]"
   ]
  },
  {
   "cell_type": "markdown",
   "metadata": {},
   "source": [
    "Largest cluster size:"
   ]
  },
  {
   "cell_type": "code",
   "execution_count": 21,
   "metadata": {},
   "outputs": [
    {
     "data": {
      "text/plain": [
       "47.0"
      ]
     },
     "execution_count": 21,
     "metadata": {},
     "output_type": "execute_result"
    }
   ],
   "source": [
    "small_world[4]"
   ]
  },
  {
   "cell_type": "markdown",
   "metadata": {},
   "source": [
    "## Time"
   ]
  },
  {
   "cell_type": "code",
   "execution_count": 22,
   "metadata": {},
   "outputs": [
    {
     "data": {
      "text/plain": [
       "11.234416246414185"
      ]
     },
     "execution_count": 22,
     "metadata": {},
     "output_type": "execute_result"
    }
   ],
   "source": [
    "M=create_world(300,0.7)\n",
    "# draw_array(M)\n",
    "toc= time.time()\n",
    "HK=Hoshen_and_Kopelman(M)\n",
    "tic = time.time()\n",
    "t=tic-toc\n",
    "t"
   ]
  },
  {
   "cell_type": "code",
   "execution_count": 23,
   "metadata": {},
   "outputs": [
    {
     "data": {
      "text/plain": [
       "0.6899666666666666"
      ]
     },
     "execution_count": 23,
     "metadata": {},
     "output_type": "execute_result"
    }
   ],
   "source": [
    "HK[5]"
   ]
  },
  {
   "cell_type": "code",
   "execution_count": 24,
   "metadata": {},
   "outputs": [],
   "source": [
    "def smiley():\n",
    "    S=np.zeros(6*8).reshape(6,8)\n",
    "    S[1,2]=1\n",
    "    S[1,5]=1\n",
    "    S[-3,1]=1\n",
    "    S[-2,2:6]=1\n",
    "    S[-3,6]=1\n",
    "    draw_array(S)"
   ]
  },
  {
   "cell_type": "code",
   "execution_count": 25,
   "metadata": {},
   "outputs": [
    {
     "data": {
      "image/png": "[encoded data removed]",
      "text/plain": [
       "<Figure size 360x360 with 1 Axes>"
      ]
     },
     "metadata": {
      "needs_background": "light"
     },
     "output_type": "display_data"
    }
   ],
   "source": [
    "smiley()"
   ]
  },
  {
   "cell_type": "markdown",
   "metadata": {},
   "source": [
    "## Perculation"
   ]
  },
  {
   "cell_type": "code",
   "execution_count": 31,
   "metadata": {},
   "outputs": [],
   "source": [
    "var_p=np.linspace(0,1,num=100)"
   ]
  },
  {
   "cell_type": "code",
   "execution_count": 32,
   "metadata": {},
   "outputs": [],
   "source": [
    "def perculation(x,size):\n",
    "    occupation=[]\n",
    "    for p in x:\n",
    "        M=create_world(size,p)\n",
    "        occupation.append(Hoshen_and_Kopelman(M)[5])\n",
    "    return occupation"
   ]
  },
  {
   "cell_type": "code",
   "execution_count": 34,
   "metadata": {},
   "outputs": [
    {
     "data": {
      "text/plain": [
       "372.6174008846283"
      ]
     },
     "execution_count": 34,
     "metadata": {},
     "output_type": "execute_result"
    }
   ],
   "source": [
    "toc= time.time()\n",
    "occupation =perculation(var_p,300)\n",
    "tic = time.time()\n",
    "tic-toc"
   ]
  },
  {
   "cell_type": "code",
   "execution_count": 35,
   "metadata": {},
   "outputs": [
    {
     "data": {
      "image/png": "[encoded data removed]",
      "text/plain": [
       "<Figure size 432x288 with 1 Axes>"
      ]
     },
     "metadata": {
      "needs_background": "light"
     },
     "output_type": "display_data"
    }
   ],
   "source": [
    "plt.plot(var_p,occupation,'.')\n",
    "plt.show()"
   ]
  },
  {
   "cell_type": "code",
   "execution_count": null,
   "metadata": {},
   "outputs": [],
   "source": []
  }
 ],
 "metadata": {
  "kernelspec": {
   "display_name": "Python 3",
   "language": "python",
   "name": "python3"
  },
  "language_info": {
   "codemirror_mode": {
    "name": "ipython",
    "version": 3
   },
   "file_extension": ".py",
   "mimetype": "text/x-python",
   "name": "python",
   "nbconvert_exporter": "python",
   "pygments_lexer": "ipython3",
   "version": "3.7.4"
  }
 },
 "nbformat": 4,
 "nbformat_minor": 2
}
