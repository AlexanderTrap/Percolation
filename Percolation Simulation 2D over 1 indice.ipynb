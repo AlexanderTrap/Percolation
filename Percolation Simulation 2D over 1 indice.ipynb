{
 "cells": [
  {
   "cell_type": "markdown",
   "metadata": {},
   "source": [
    "# 2D Percolation Simulation"
   ]
  },
  {
   "cell_type": "markdown",
   "metadata": {},
   "source": [
    "## The drawing table"
   ]
  },
  {
   "cell_type": "markdown",
   "metadata": {},
   "source": [
    "First of all we have to create a grid of size L. With a $p$ probability that each of the squares inside the raster is occupied.\n",
    "We will do this by creating a matrix where all the elements are initially zero and have a chance $p$ to be 1."
   ]
  },
  {
   "cell_type": "code",
   "execution_count": 1,
   "metadata": {},
   "outputs": [],
   "source": [
    "import numpy as np\n",
    "import random\n",
    "import time\n",
    "from scipy.optimize import curve_fit\n",
    "import collections"
   ]
  },
  {
   "cell_type": "code",
   "execution_count": 2,
   "metadata": {},
   "outputs": [],
   "source": [
    "from mpl_toolkits.axes_grid1.inset_locator import zoomed_inset_axes\n",
    "from mpl_toolkits.axes_grid1.inset_locator import mark_inset\n",
    "from mpl_toolkits.axes_grid1.inset_locator import inset_axes"
   ]
  },
  {
   "cell_type": "code",
   "execution_count": 3,
   "metadata": {},
   "outputs": [],
   "source": [
    "from numba import jit"
   ]
  },
  {
   "cell_type": "code",
   "execution_count": 4,
   "metadata": {},
   "outputs": [],
   "source": [
    "#this function will give True or False to later determine what elements will be coloured in the grid.\n",
    "@jit(nopython=True)\n",
    "def decision(probability):\n",
    "    return random.random() < probability"
   ]
  },
  {
   "cell_type": "code",
   "execution_count": 5,
   "metadata": {},
   "outputs": [],
   "source": [
    "@jit(nopython=True)\n",
    "def one_or_zero(probability):\n",
    "    if decision(probability):\n",
    "        return 1\n",
    "    else:\n",
    "        return 0"
   ]
  },
  {
   "cell_type": "code",
   "execution_count": 6,
   "metadata": {},
   "outputs": [],
   "source": [
    "@jit(nopython=True)\n",
    "def create_world(size,probability):\n",
    "    field= np.zeros(size**2)  #create vector to make the iteration easier\n",
    "    for i in range(size**2):\n",
    "        field[i]=one_or_zero(probability)     #make certain elements one and zero depending on the prob\n",
    "    return field"
   ]
  },
  {
   "cell_type": "code",
   "execution_count": 7,
   "metadata": {},
   "outputs": [
    {
     "name": "stdout",
     "output_type": "stream",
     "text": [
      "Wall time: 358 ms\n"
     ]
    },
    {
     "data": {
      "text/plain": [
       "array([0., 0., 1., 0., 0., 0., 0., 1., 0., 1., 1., 0., 0., 1., 0., 1., 0.,\n",
       "       0., 0., 1., 1., 1., 0., 0., 1.])"
      ]
     },
     "execution_count": 7,
     "metadata": {},
     "output_type": "execute_result"
    }
   ],
   "source": [
    "%%time\n",
    "M=create_world(5,0.5)\n",
    "M"
   ]
  },
  {
   "cell_type": "code",
   "execution_count": 8,
   "metadata": {},
   "outputs": [],
   "source": [
    "from matplotlib import pyplot as plt\n",
    "from matplotlib import colors\n",
    "\n",
    "def draw_array(array):\n",
    "    size=int(np.sqrt(len(array)))\n",
    "    M=np.reshape(array,(size,size))\n",
    "    cmap = colors.ListedColormap(['White','Red'])\n",
    "    plt.figure(figsize=(5,5))\n",
    "    plt.pcolor(M[::-1],cmap=cmap,edgecolors='k', linewidths=0.1)\n",
    "    plt.show()"
   ]
  },
  {
   "cell_type": "code",
   "execution_count": 9,
   "metadata": {},
   "outputs": [
    {
     "data": {
      "image/png": "[encoded data removed]",
      "text/plain": [
       "<Figure size 360x360 with 1 Axes>"
      ]
     },
     "metadata": {
      "needs_background": "light"
     },
     "output_type": "display_data"
    }
   ],
   "source": [
    "draw_array(M)"
   ]
  },
  {
   "cell_type": "markdown",
   "metadata": {},
   "source": [
    "## How to count?"
   ]
  },
  {
   "cell_type": "markdown",
   "metadata": {},
   "source": [
    "We will now implement an algoritm to count the amount of clusters in the grid. The method I have chosen is the Hoshen and Kopelman algortim."
   ]
  },
  {
   "cell_type": "markdown",
   "metadata": {},
   "source": [
    "The function below returns the number of clusters, the list in where the clusters are counted with their respective number of sites (negative means that this one is 'slorped' by another cluster), the matrix in which the different numbers can be shown,  the number of unoccupied sites and the number of the sites in the largest cluster."
   ]
  },
  {
   "cell_type": "code",
   "execution_count": 10,
   "metadata": {},
   "outputs": [],
   "source": [
    "@jit(nopython=True)\n",
    "def occupied(el):\n",
    "    return el==1"
   ]
  },
  {
   "cell_type": "markdown",
   "metadata": {},
   "source": [
    "In the method we have to keep up with the track of how the cluster size of a cluster. We do this by making a list. Which after several iterations look like this as an example:"
   ]
  },
  {
   "cell_type": "code",
   "execution_count": 11,
   "metadata": {},
   "outputs": [
    {
     "data": {
      "text/plain": [
       "array([3., 0., 3., 2., 1.])"
      ]
     },
     "execution_count": 11,
     "metadata": {},
     "output_type": "execute_result"
    }
   ],
   "source": [
    "np.array([3.,0.,3.,2.,1.])"
   ]
  },
  {
   "cell_type": "markdown",
   "metadata": {},
   "source": [
    "Because of how indexing works in Python. In the above array we have that the amount of zeros is equal to 3. The amount of cluster 2 is 3, cluster 3 is 2 etc..."
   ]
  },
  {
   "cell_type": "markdown",
   "metadata": {},
   "source": [
    "However, when two clusters meet, for example cluster 2 and 3 we merge the two clusters to the cluster of the upper one. The cluster size of 3 is transferred to cluster 2 and cluster two will be pointed to cluster 2.\n",
    "And the list should look the following:"
   ]
  },
  {
   "cell_type": "code",
   "execution_count": 12,
   "metadata": {},
   "outputs": [],
   "source": [
    "y=np.array([3.,0.,5.,-2.,1.])"
   ]
  },
  {
   "cell_type": "markdown",
   "metadata": {},
   "source": [
    "And then when we get a new occupied space that is related to cluster 3, the new zone should be counted for for the 'true label' of cluster 3, which is cluster 2.\n",
    "The following function helps us with that:"
   ]
  },
  {
   "cell_type": "code",
   "execution_count": 13,
   "metadata": {},
   "outputs": [],
   "source": [
    "@jit(nopython=True)\n",
    "def get_true_label(value,lijst):\n",
    "    true_value=value\n",
    "    if lijst[int(value)]>0:\n",
    "        true_value = true_value\n",
    "    else:\n",
    "        true_value=get_true_label(-lijst[int(value)], lijst)\n",
    "        lijst[int(value)]=-true_value\n",
    "    return true_value"
   ]
  },
  {
   "cell_type": "code",
   "execution_count": 14,
   "metadata": {},
   "outputs": [
    {
     "data": {
      "text/plain": [
       "2.0"
      ]
     },
     "execution_count": 14,
     "metadata": {},
     "output_type": "execute_result"
    }
   ],
   "source": [
    "get_true_label(3,y)"
   ]
  },
  {
   "cell_type": "code",
   "execution_count": 15,
   "metadata": {},
   "outputs": [],
   "source": [
    "Y=np.array([3.,0.,5.,-2.,-3.])"
   ]
  },
  {
   "cell_type": "markdown",
   "metadata": {},
   "source": [
    "When the upper cluster $\\textit{already}$ is pointed to another cluster we still et the true label:"
   ]
  },
  {
   "cell_type": "code",
   "execution_count": 16,
   "metadata": {},
   "outputs": [
    {
     "data": {
      "text/plain": [
       "2.0"
      ]
     },
     "execution_count": 16,
     "metadata": {},
     "output_type": "execute_result"
    }
   ],
   "source": [
    "get_true_label(4,Y)"
   ]
  },
  {
   "cell_type": "code",
   "execution_count": 17,
   "metadata": {},
   "outputs": [
    {
     "data": {
      "text/plain": [
       "array([ 3.,  0.,  5., -2., -2.])"
      ]
     },
     "execution_count": 17,
     "metadata": {},
     "output_type": "execute_result"
    }
   ],
   "source": [
    "Y"
   ]
  },
  {
   "cell_type": "markdown",
   "metadata": {},
   "source": [
    "The next function works the same way but instead it returns the value, it returns the cluster size of the 'true label'- cluster. This is needed when the cluster is being assigned, is already pointed to another cluster. "
   ]
  },
  {
   "cell_type": "code",
   "execution_count": 18,
   "metadata": {},
   "outputs": [],
   "source": [
    "@jit(nopython=True)\n",
    "def get_true_label_value(value,lijst):\n",
    "    if lijst[int(value)]>0:\n",
    "        return lijst[int(value)]\n",
    "    else:\n",
    "        return get_true_label_value(-lijst[int(value)], lijst)"
   ]
  },
  {
   "cell_type": "code",
   "execution_count": 19,
   "metadata": {},
   "outputs": [
    {
     "data": {
      "text/plain": [
       "5.0"
      ]
     },
     "execution_count": 19,
     "metadata": {},
     "output_type": "execute_result"
    }
   ],
   "source": [
    "x=np.array([3.,0.,5.,-2.,-2.])\n",
    "get_true_label_value(4,x)"
   ]
  },
  {
   "cell_type": "markdown",
   "metadata": {},
   "source": [
    "Next function counts one for the true cluster if nothing is being merged or anything."
   ]
  },
  {
   "cell_type": "code",
   "execution_count": 20,
   "metadata": {},
   "outputs": [],
   "source": [
    "@jit(nopython=True)\n",
    "def count_true_cluster(cell,lijst):\n",
    "    label=get_true_label(cell,lijst)\n",
    "    lijst[int(label)]+=1"
   ]
  },
  {
   "cell_type": "markdown",
   "metadata": {},
   "source": [
    "This is a smaal workaround because the package numba does not work well with deleting items from a list."
   ]
  },
  {
   "cell_type": "code",
   "execution_count": 21,
   "metadata": {},
   "outputs": [],
   "source": [
    "@jit(nopython=True)\n",
    "def delete_workaround(arr, num):\n",
    "    mask = np.zeros(arr.shape[0], dtype=np.int64) == 0\n",
    "    mask[np.where(arr == num)[0]] = False\n",
    "    return arr[mask]"
   ]
  },
  {
   "cell_type": "markdown",
   "metadata": {},
   "source": [
    "Now we have everything for the algoritm."
   ]
  },
  {
   "cell_type": "code",
   "execution_count": 22,
   "metadata": {
    "pixiedust": {
     "displayParams": {}
    }
   },
   "outputs": [],
   "source": [
    "@jit(nopython=True)\n",
    "def Hoshen_and_Kopelman(array):\n",
    "    U=np.copy(array)\n",
    "    L=int(np.sqrt(len(array)))\n",
    "    \n",
    "    l=2\n",
    "    lijst =np.zeros(round(len(array)/2))\n",
    "\n",
    "    \n",
    "    if occupied(U[0]):  #first element\n",
    "        U[0]=l\n",
    "        lijst[l]+=1\n",
    "        l+=1\n",
    "    else:\n",
    "        lijst[0]+=1\n",
    "        \n",
    "    for i in range(L-1): #top row\n",
    "        i+=1\n",
    "        if occupied(U[i]):\n",
    "            if U[i-1]!=0:         #look left\n",
    "                U[i]=U[i-1]\n",
    "                lijst[int(U[i-1])]+=1.\n",
    "            else:\n",
    "                U[i]=l\n",
    "                lijst[l]+=1\n",
    "                l+=1\n",
    "        else:\n",
    "            lijst[0]+=1\n",
    "            \n",
    "    for i in range((L**2-L)):\n",
    "        i+=L                        #skip the first row\n",
    "        if i % L == 0:              #first column does not have to look left\n",
    "            if occupied(U[i]):\n",
    "                if U[i-L]!=0:           #look up\n",
    "                    U[i]=U[i-L]\n",
    "                    count_true_cluster(U[i],lijst)\n",
    "                else:\n",
    "                    U[i]=l\n",
    "                    lijst[l]+=1\n",
    "                    l+=1\n",
    "            else:\n",
    "                lijst[0]+=1\n",
    "\n",
    "\n",
    "        elif occupied(U[i]):\n",
    "            if U[(i-L)]!=0:            #look up\n",
    "                U[i]=U[i-L]\n",
    "                count_true_cluster(U[i],lijst)\n",
    "\n",
    "                if U[i-1]!=0:             #look left AND up to merge\n",
    "                    if get_true_label(U[i],lijst)!=get_true_label(U[i-1],lijst):  #if both elements are from the same cluster, mer\n",
    "\n",
    "                               #below is the tricky part, we have to add the true label size! of left to cluster of the current one (=cluster of top one)\n",
    "                            lijst[int(get_true_label(U[i],lijst))]+=(get_true_label_value(U[i-1], lijst)) \n",
    "                            lijst[int(get_true_label(U[i-1],lijst))]=-U[i] #and now the true label of left becomes the current one\n",
    "\n",
    "            elif U[i-1]!=0:         #look left\n",
    "                U[i]=U[i-1]\n",
    "                count_true_cluster(U[i],lijst)\n",
    "\n",
    "            else:\n",
    "                U[i]=l\n",
    "                lijst[l]+=1\n",
    "                l+=1\n",
    "        else:\n",
    "            lijst[0]+=1\n",
    "          \n",
    "    cluster_sizes_without_largest_one= np.array([i  for i in lijst[1:] if i>0])\n",
    "    cluster_sizes= np.copy(cluster_sizes_without_largest_one) \n",
    "    \n",
    "    number_of_clusters= len(cluster_sizes)\n",
    "    \n",
    "    largest_cluster=np.max(lijst[1:])\n",
    "    \n",
    "    cluster_sizes_without_largest_one=delete_workaround(cluster_sizes,largest_cluster)\n",
    "    \n",
    "    \n",
    "    if number_of_clusters != 0:\n",
    "        average_cluster_sizes_without_largest_one= np.sum(np.power(cluster_sizes_without_largest_one,2)) / (number_of_clusters)\n",
    "    else:\n",
    "        average_cluster_sizes_without_largest_one=0\n",
    "    \n",
    "    fraction = largest_cluster/(L**2)\n",
    "    \n",
    "    return number_of_clusters, lijst, largest_cluster, fraction, cluster_sizes, cluster_sizes_without_largest_one, average_cluster_sizes_without_largest_one"
   ]
  },
  {
   "cell_type": "code",
   "execution_count": 24,
   "metadata": {},
   "outputs": [
    {
     "name": "stdout",
     "output_type": "stream",
     "text": [
      "Wall time: 114 ms\n"
     ]
    }
   ],
   "source": [
    "%%time\n",
    "M=create_world(1000,0.9)\n",
    "result=Hoshen_and_Kopelman(M)"
   ]
  },
  {
   "cell_type": "markdown",
   "metadata": {},
   "source": [
    "## Example"
   ]
  },
  {
   "cell_type": "code",
   "execution_count": 25,
   "metadata": {
    "pixiedust": {
     "displayParams": {}
    }
   },
   "outputs": [
    {
     "data": {
      "image/png": "[encoded data removed]",
      "text/plain": [
       "<Figure size 360x360 with 1 Axes>"
      ]
     },
     "metadata": {
      "needs_background": "light"
     },
     "output_type": "display_data"
    }
   ],
   "source": [
    "M=create_world(5,0.5)\n",
    "small_world=Hoshen_and_Kopelman(M)\n",
    "draw_array(M)"
   ]
  },
  {
   "cell_type": "markdown",
   "metadata": {},
   "source": [
    "Number of clusters:"
   ]
  },
  {
   "cell_type": "code",
   "execution_count": 26,
   "metadata": {},
   "outputs": [
    {
     "data": {
      "text/plain": [
       "1"
      ]
     },
     "execution_count": 26,
     "metadata": {},
     "output_type": "execute_result"
    }
   ],
   "source": [
    "small_world[0]"
   ]
  },
  {
   "cell_type": "markdown",
   "metadata": {},
   "source": [
    "Largest cluster size:"
   ]
  },
  {
   "cell_type": "code",
   "execution_count": 27,
   "metadata": {},
   "outputs": [
    {
     "data": {
      "text/plain": [
       "11.0"
      ]
     },
     "execution_count": 27,
     "metadata": {},
     "output_type": "execute_result"
    }
   ],
   "source": [
    "small_world[2]"
   ]
  },
  {
   "cell_type": "markdown",
   "metadata": {},
   "source": [
    "# Order Parameters"
   ]
  },
  {
   "cell_type": "code",
   "execution_count": 28,
   "metadata": {},
   "outputs": [],
   "source": [
    "def func(x, a, b):\n",
    "    return a*(x)**b"
   ]
  },
  {
   "cell_type": "code",
   "execution_count": 38,
   "metadata": {},
   "outputs": [],
   "source": [
    "var_p=np.linspace(0.0001,0.5,5)\n",
    "var_p=np.append(var_p,np.linspace(0.55,0.65,num=50))\n",
    "var_p=np.append(var_p,np.linspace(0.66,1,num=10))\n",
    "# var_p=np.linspace(0.01,0.99,15)"
   ]
  },
  {
   "cell_type": "code",
   "execution_count": 39,
   "metadata": {},
   "outputs": [],
   "source": [
    "@jit(nopython=True)\n",
    "\n",
    "def perculation(x,size):\n",
    "    occupation_fraction=np.zeros(len(x))\n",
    "    average_cluster_size=np.zeros(len(x))\n",
    "    for i in range(len(x)):\n",
    "        U=create_world(size,x[i])\n",
    "        HK=Hoshen_and_Kopelman(U)\n",
    "        occupation_fraction[i]=HK[3]\n",
    "        average_cluster_size[i]=HK[6]\n",
    "    return occupation_fraction, average_cluster_size"
   ]
  },
  {
   "cell_type": "code",
   "execution_count": 40,
   "metadata": {},
   "outputs": [],
   "source": [
    "@jit(nopython=True)\n",
    "def average(x,size, iterations):\n",
    "    count_occupation=np.zeros(len(x))\n",
    "    average_cluster_size=np.zeros(len(x))\n",
    "    for it in range(iterations):\n",
    "        a=perculation(x,size)\n",
    "        count_occupation+=a[0]\n",
    "        average_cluster_size+=a[1]\n",
    "    return count_occupation/iterations, average_cluster_size/iterations"
   ]
  },
  {
   "cell_type": "code",
   "execution_count": 98,
   "metadata": {
    "scrolled": true
   },
   "outputs": [
    {
     "name": "stdout",
     "output_type": "stream",
     "text": [
      "Wall time: 3min 18s\n"
     ]
    }
   ],
   "source": [
    "%%time\n",
    "# occupation =average(var_p,5000, 5)\n",
    "# occupation2000=average(var_p,2000, 10)\n",
    "occupation1000=average(var_p,1000, 50)"
   ]
  },
  {
   "cell_type": "markdown",
   "metadata": {},
   "source": [
    "## $P_c$"
   ]
  },
  {
   "cell_type": "code",
   "execution_count": 99,
   "metadata": {},
   "outputs": [],
   "source": [
    "Pinf=occupation[0]"
   ]
  },
  {
   "cell_type": "code",
   "execution_count": 100,
   "metadata": {},
   "outputs": [
    {
     "data": {
      "text/plain": [
       "0.5928571428571429"
      ]
     },
     "execution_count": 100,
     "metadata": {},
     "output_type": "execute_result"
    }
   ],
   "source": [
    "id=next(x[0] for x in enumerate(occupation[0]) if x[1] > 0.1)\n",
    "Pc=var_p[id]\n",
    "Pc"
   ]
  },
  {
   "cell_type": "markdown",
   "metadata": {},
   "source": [
    "The percolation threshold we found is 0.0.59286. This comes very close to more exact value of 0.0.59274 (source:https://en.wikipedia.org/wiki/Percolation_threshold#Inhomogeneous_2-uniform_lattice)"
   ]
  },
  {
   "cell_type": "code",
   "execution_count": 101,
   "metadata": {},
   "outputs": [],
   "source": [
    "Pc=np.float(0.5927461)\n",
    "id=next(x[0] for x in enumerate(var_p) if x[1] > Pc)"
   ]
  },
  {
   "cell_type": "code",
   "execution_count": 103,
   "metadata": {},
   "outputs": [
    {
     "data": {
      "image/png": "[encoded data removed]",
      "text/plain": [
       "<Figure size 432x288 with 2 Axes>"
      ]
     },
     "metadata": {
      "needs_background": "light"
     },
     "output_type": "display_data"
    }
   ],
   "source": [
    "fig, ax = plt.subplots() # create a new figure with a default 111 subplot\n",
    "plt.xlabel('p')\n",
    "plt.ylabel('$P_{\\infty}$')\n",
    "plt.ylim([0, 1])\n",
    "ax.plot(var_p,Pinf,label='L=5000')\n",
    "ax.plot(var_p,occupation2000[0],label='L=2000')\n",
    "ax.plot(var_p,occupation1000[0],label='L=1000')\n",
    "plt.legend(loc='center right')\n",
    "ax.tick_params(axis=\"both\", direction=\"in\", top=True, right=True)\n",
    "\n",
    "# axins = zoomed_inset_axes(ax, 4, loc=2)\n",
    "axins =inset_axes(ax, 1.2,1.5 , loc=2,bbox_to_anchor=(0.2, 0.8),bbox_transform=ax.figure.transFigure)\n",
    "axins.plot(var_p,Pinf)\n",
    "axins.plot(var_p,occupation2000[0])\n",
    "axins.plot(var_p,occupation1000[0])\n",
    "x1, x2, y1, y2 = 0.57, 0.61, 0,0.6 # specify the limits\n",
    "axins.set_xlim(x1, x2) # apply the x-limits\n",
    "axins.set_ylim(y1, y2) # apply the y-limits\n",
    "# plt.yticks(visible=False)\n",
    "# plt.xticks(visible=False)\n",
    "\n",
    "mark_inset(ax, axins, loc1=1, loc2=3, fc=\"none\", ec=\"0.5\")\n",
    "\n",
    "\n",
    "plt.show()"
   ]
  },
  {
   "cell_type": "markdown",
   "metadata": {},
   "source": [
    "# $\\beta$"
   ]
  },
  {
   "cell_type": "code",
   "execution_count": 110,
   "metadata": {},
   "outputs": [
    {
     "name": "stdout",
     "output_type": "stream",
     "text": [
      "Wall time: 6min 20s\n"
     ]
    }
   ],
   "source": [
    "%%time\n",
    "v=np.logspace(-5.0, 0, num=50)+Pc\n",
    "var_exp_pos=np.array([el for el in v if Pc<(el)<1])\n",
    "\n",
    "occupation_exp_pos =average(var_exp_pos,5000, 5)"
   ]
  },
  {
   "cell_type": "code",
   "execution_count": 111,
   "metadata": {},
   "outputs": [],
   "source": [
    "Pinf_exp_pos=occupation_exp_pos[0]"
   ]
  },
  {
   "cell_type": "code",
   "execution_count": 115,
   "metadata": {},
   "outputs": [],
   "source": [
    "var_beta=var_exp_pos\n",
    "Pinf_beta=Pinf_exp_pos\n",
    "\n",
    "var_beta_2=var_exp_pos[-15:-7]#var_beta[5:-22]\n",
    "Pinf_beta_2=Pinf_exp_pos[-15:-7]#Pinf_beta[5:-22]"
   ]
  },
  {
   "cell_type": "code",
   "execution_count": 116,
   "metadata": {},
   "outputs": [
    {
     "data": {
      "text/plain": [
       "array([0.95148044, 0.15085731])"
      ]
     },
     "execution_count": 116,
     "metadata": {},
     "output_type": "execute_result"
    }
   ],
   "source": [
    "popt, pcov = curve_fit(func, (var_beta_2- Pc),Pinf_beta_2)\n",
    "popt"
   ]
  },
  {
   "cell_type": "code",
   "execution_count": 117,
   "metadata": {},
   "outputs": [
    {
     "data": {
      "image/png": "[encoded data removed]",
      "text/plain": [
       "<Figure size 432x288 with 1 Axes>"
      ]
     },
     "metadata": {
      "needs_background": "light"
     },
     "output_type": "display_data"
    },
    {
     "name": "stdout",
     "output_type": "stream",
     "text": [
      "beta = 0.15085731465625066\n"
     ]
    }
   ],
   "source": [
    "f = plt.figure()\n",
    "ax = f.add_subplot(111)\n",
    "ax.tick_params(axis=\"both\", direction=\"in\", top=True, right=True)\n",
    "\n",
    "plt.scatter(var_beta- Pc,Pinf_beta)\n",
    "plt.plot((var_beta- Pc), func(var_beta- Pc, *popt), '--', color='green')\n",
    "\n",
    "plt.xscale('log')\n",
    "plt.yscale('log')\n",
    "\n",
    "plt.xlim(10**(-5), 1)\n",
    "plt.ylim(0.1, 1)\n",
    "plt.xlabel('|Pc-P|')\n",
    "plt.ylabel('$beta(p)$')\n",
    "plt.show()\n",
    "print('beta =', popt[1])"
   ]
  },
  {
   "cell_type": "code",
   "execution_count": 123,
   "metadata": {},
   "outputs": [
    {
     "data": {
      "text/plain": [
       "0.1388888888888889"
      ]
     },
     "execution_count": 123,
     "metadata": {},
     "output_type": "execute_result"
    }
   ],
   "source": [
    "5/36"
   ]
  },
  {
   "cell_type": "markdown",
   "metadata": {},
   "source": [
    "## Average Cluster Size"
   ]
  },
  {
   "cell_type": "code",
   "execution_count": 118,
   "metadata": {},
   "outputs": [],
   "source": [
    "acs=occupation[1]"
   ]
  },
  {
   "cell_type": "code",
   "execution_count": 139,
   "metadata": {},
   "outputs": [
    {
     "data": {
      "image/png": "[encoded data removed]",
      "text/plain": [
       "<Figure size 432x288 with 2 Axes>"
      ]
     },
     "metadata": {
      "needs_background": "light"
     },
     "output_type": "display_data"
    }
   ],
   "source": [
    "fig, ax = plt.subplots() # create a new figure with a default 111 subplot\n",
    "plt.xlabel('p')\n",
    "plt.ylabel('$\\chi$')\n",
    "# plt.ylim([0, 1])\n",
    "ax.plot(var_p,acs,label='L=5000')\n",
    "ax.plot(var_p,occupation2000[1],label='L=2000')\n",
    "ax.plot(var_p,occupation1000[1],label='L=1000')\n",
    "plt.legend(loc='center right')\n",
    "\n",
    "plt.ylim(1,10**7)\n",
    "plt.yscale('log')\n",
    "\n",
    "ax.tick_params(axis=\"both\", direction=\"in\", top=True, right=True)\n",
    "\n",
    "axins =inset_axes(ax, 1.5,1.5 , loc=2,bbox_to_anchor=(0.2, 0.85),bbox_transform=ax.figure.transFigure)\n",
    "\n",
    "axins.plot(var_p,acs)\n",
    "axins.plot(var_p,occupation2000[1])\n",
    "axins.plot(var_p,occupation1000[1])\n",
    "x1, x2, y1, y2 = 0.575, 0.625,1, 10**7 # specify the limits\n",
    "axins.set_xlim(x1, x2) # apply the x-limits\n",
    "axins.set_ylim(y1, y2) # apply the y-limits\n",
    "# axins.set_yscale('log')\n",
    "# plt.yticks(visible=False)\n",
    "# plt.xticks(visible=False)\n",
    "\n",
    "mark_inset(ax, axins, loc1=1, loc2=3, fc=\"none\", ec=\"0.5\")\n",
    "\n",
    "\n",
    "plt.show()"
   ]
  },
  {
   "cell_type": "markdown",
   "metadata": {},
   "source": [
    "## $\\gamma$"
   ]
  },
  {
   "cell_type": "code",
   "execution_count": 128,
   "metadata": {},
   "outputs": [
    {
     "name": "stdout",
     "output_type": "stream",
     "text": [
      "Wall time: 3min 37s\n"
     ]
    }
   ],
   "source": [
    "%%time\n",
    "v=Pc-np.logspace(-5.0, 0, num=50)\n",
    "var_exp_neg=np.array([el for el in v if 0<(el)<Pc])\n",
    "\n",
    "occupation_exp_neg =average(var_exp_neg,5000, 3)"
   ]
  },
  {
   "cell_type": "code",
   "execution_count": 140,
   "metadata": {},
   "outputs": [],
   "source": [
    "acs_gamma_pos=occupation_exp_pos[1]\n",
    "acs_gamma_neg=occupation_exp_neg[1]"
   ]
  },
  {
   "cell_type": "code",
   "execution_count": 141,
   "metadata": {},
   "outputs": [],
   "source": [
    "#positive\n",
    "var_gamma_pos=var_exp_pos\n",
    "acs_gamma_pos=acs_gamma_pos\n",
    "\n",
    "#negative\n",
    "var_gamma_neg=var_exp_neg\n",
    "acs_gamma_neg=acs_gamma_neg"
   ]
  },
  {
   "cell_type": "markdown",
   "metadata": {},
   "source": [
    "If we look at the graph below, we have to specify a cut-off value from were we want our function to be fitted."
   ]
  },
  {
   "cell_type": "code",
   "execution_count": 155,
   "metadata": {},
   "outputs": [],
   "source": [
    "xdata=abs(Pc-var_gamma_neg[-16:])\n",
    "ydata=acs_gamma_neg[-16:]"
   ]
  },
  {
   "cell_type": "code",
   "execution_count": 156,
   "metadata": {},
   "outputs": [
    {
     "data": {
      "text/plain": [
       "array([ 1.60431505, -2.51806626])"
      ]
     },
     "execution_count": 156,
     "metadata": {},
     "output_type": "execute_result"
    }
   ],
   "source": [
    "popt, pcov = curve_fit(func, (xdata),ydata)\n",
    "gamma=-popt[1]\n",
    "popt"
   ]
  },
  {
   "cell_type": "code",
   "execution_count": 157,
   "metadata": {},
   "outputs": [
    {
     "data": {
      "image/png": "[encoded data removed]",
      "text/plain": [
       "<Figure size 432x288 with 1 Axes>"
      ]
     },
     "metadata": {
      "needs_background": "light"
     },
     "output_type": "display_data"
    },
    {
     "name": "stdout",
     "output_type": "stream",
     "text": [
      "$\\gamma$= 2.5180662615876326\n"
     ]
    }
   ],
   "source": [
    "f = plt.figure()\n",
    "ax = f.add_subplot(111)\n",
    "ax.tick_params(axis=\"both\", direction=\"in\", top=True, right=True)\n",
    "\n",
    "plt.scatter(var_gamma_pos- Pc,acs_gamma_pos, label='$p>p_c$')\n",
    "plt.scatter(abs(Pc-var_gamma_neg),acs_gamma_neg, label='$p<p_c$')\n",
    "plt.plot(abs(Pc-var_gamma_neg), func(abs(Pc-var_gamma_neg), *popt), '--', color='green')\n",
    "\n",
    "plt.xscale('log')\n",
    "# plt.xlim(10**(-5), 1)\n",
    "\n",
    "plt.yscale('log')\n",
    "plt.xlim(10**(-5), 1)\n",
    "plt.ylim(1,10**7)\n",
    "plt.xlabel('|Pc-P|')\n",
    "plt.ylabel('$\\chi(p)$')\n",
    "plt.legend()\n",
    "plt.show()\n",
    "print('$\\gamma$=', gamma)"
   ]
  },
  {
   "cell_type": "markdown",
   "metadata": {},
   "source": [
    "L=5000"
   ]
  },
  {
   "cell_type": "code",
   "execution_count": 151,
   "metadata": {},
   "outputs": [
    {
     "data": {
      "text/plain": [
       "2.388888888888889"
      ]
     },
     "execution_count": 151,
     "metadata": {},
     "output_type": "execute_result"
    }
   ],
   "source": [
    "43/18"
   ]
  },
  {
   "cell_type": "markdown",
   "metadata": {},
   "source": [
    "## Cluster Number Density"
   ]
  },
  {
   "cell_type": "markdown",
   "metadata": {},
   "source": [
    "The following defined function will use the result of Hoshen and Kopelman of the clusters. With the list of the clusters it will calculate the frequency of the clusters by using a dictionairy. And it wil average out in the end.\n",
    "I see it in a way to reduce 'noise'."
   ]
  },
  {
   "cell_type": "code",
   "execution_count": 158,
   "metadata": {},
   "outputs": [],
   "source": [
    "def cluster_number_density(size, p, iterations):\n",
    "    appearances=collections.defaultdict(int)\n",
    "    \n",
    "    for i in range(iterations):\n",
    "        M=create_world(size,p)\n",
    "        HK=Hoshen_and_Kopelman(M)\n",
    "        for curr in HK[4]:\n",
    "            appearances[curr] += 1\n",
    "            \n",
    "    data = list(appearances.items())\n",
    "    \n",
    "    an_array = np.array(data)\n",
    "    an_array[:,1]=an_array[:,1]/(size)**2\n",
    "\n",
    "    an_array=an_array[np.argsort(an_array[:,0])]\n",
    "    an_array[:,1]=an_array[:,1]/iterations\n",
    "    \n",
    "    return an_array"
   ]
  },
  {
   "cell_type": "code",
   "execution_count": 161,
   "metadata": {},
   "outputs": [
    {
     "name": "stdout",
     "output_type": "stream",
     "text": [
      "Wall time: 41.1 s\n"
     ]
    }
   ],
   "source": [
    "%%time\n",
    "size=5000\n",
    "cnd1_=cluster_number_density(size,0.47,5)\n",
    "cnd2_=cluster_number_density(size,0.5,5)\n",
    "cnd3_=cluster_number_density(size,0.53,5)\n",
    "cnd4_=cluster_number_density(size,0.56,5)"
   ]
  },
  {
   "cell_type": "code",
   "execution_count": 162,
   "metadata": {},
   "outputs": [],
   "source": [
    "#if a cluster only comes one time after a few iterations\n",
    "#it only brings the average down a lot and does not contribute well to the average\n",
    "#this function will skip if a cluster size only appears once during the loop\n",
    "def skip_ones(cnd, treshold=1/(size)**2):\n",
    "    result=np.array([])\n",
    "    for el in (cnd):\n",
    "        if el[1]>treshold:\n",
    "            result=np.append(result,[el])\n",
    "    return result.reshape(int(len(result)/2),2)"
   ]
  },
  {
   "cell_type": "code",
   "execution_count": 163,
   "metadata": {},
   "outputs": [],
   "source": [
    "cnd1=skip_ones(cnd1_)\n",
    "cnd2=skip_ones(cnd2_)\n",
    "cnd3=skip_ones(cnd3_)\n",
    "cnd4=skip_ones(cnd4_)"
   ]
  },
  {
   "cell_type": "code",
   "execution_count": 164,
   "metadata": {},
   "outputs": [
    {
     "data": {
      "image/png": "[encoded data removed]",
      "text/plain": [
       "<Figure size 432x288 with 1 Axes>"
      ]
     },
     "metadata": {
      "needs_background": "light"
     },
     "output_type": "display_data"
    }
   ],
   "source": [
    "plt.plot(cnd1[:,0],cnd1[:,1],label='p=0.50')\n",
    "plt.plot(cnd2[:,0],cnd2[:,1],label='p=0.53')\n",
    "plt.plot(cnd3[:,0],cnd3[:,1],label='p=0.56')\n",
    "plt.plot(cnd4[:,0],cnd4[:,1],label='p=0.59')\n",
    "# plt.plot(10,1/(200**2),'o')\n",
    "plt.yscale('log')\n",
    "plt.ylim(10**-8, 1)\n",
    "plt.xlim(1, 10**4)\n",
    "plt.xscale('log')\n",
    "plt.xlabel('s')\n",
    "plt.ylabel('n(s,p)')\n",
    "plt.legend()\n",
    "plt.show()"
   ]
  },
  {
   "cell_type": "code",
   "execution_count": 165,
   "metadata": {},
   "outputs": [],
   "source": [
    "from scipy.stats import binned_statistic"
   ]
  },
  {
   "cell_type": "code",
   "execution_count": 167,
   "metadata": {
    "scrolled": true
   },
   "outputs": [
    {
     "data": {
      "image/png": "[encoded data removed]",
      "text/plain": [
       "<Figure size 432x288 with 1 Axes>"
      ]
     },
     "metadata": {
      "needs_background": "light"
     },
     "output_type": "display_data"
    }
   ],
   "source": [
    "fig, ax = plt.subplots()\n",
    "\n",
    "binnetjes=50\n",
    "x=cnd1[:,0]\n",
    "y=cnd1[:,1]\n",
    "s, edges, _ = binned_statistic(x,y, statistic='mean', bins=np.logspace(0,5,binnetjes))\n",
    "ys = np.repeat(s,2)\n",
    "xs = np.repeat(edges,2)[1:-1]\n",
    "ax.scatter(edges[:-1]+np.diff(edges)/2, s, label='p=0.47')\n",
    "\n",
    "x=cnd2[:,0]\n",
    "y=cnd2[:,1]\n",
    "s, edges, _ = binned_statistic(x,y, statistic='mean', bins=np.logspace(0,5,binnetjes))\n",
    "ys = np.repeat(s,2)\n",
    "xs = np.repeat(edges,2)[1:-1]\n",
    "ax.scatter(edges[:-1]+np.diff(edges)/2, s,label='p=0.50')\n",
    "\n",
    "x=cnd3[:,0]\n",
    "y=cnd3[:,1]\n",
    "s, edges, _ = binned_statistic(x,y, statistic='mean', bins=np.logspace(0,5,binnetjes))\n",
    "ys = np.repeat(s,2)\n",
    "xs = np.repeat(edges,2)[1:-1]\n",
    "ax.scatter(edges[:-1]+np.diff(edges)/2, s,label='p=0.53')\n",
    "\n",
    "x=cnd4[:,0]\n",
    "y=cnd4[:,1]\n",
    "s, edges, _ = binned_statistic(x,y, statistic='mean', bins=np.logspace(0,5,binnetjes))\n",
    "ys = np.repeat(s,2)\n",
    "xs = np.repeat(edges,2)[1:-1]\n",
    "ax.scatter(edges[:-1]+np.diff(edges)/2, s,label='p=0.56')\n",
    "\n",
    "plt.ylim(10**-8, 1)\n",
    "plt.xlim(1, 10**4)\n",
    "plt.xlabel('s')\n",
    "plt.ylabel('n(s,p)')\n",
    "ax.set_xscale(\"log\")\n",
    "ax.set_yscale(\"log\")\n",
    "plt.legend()\n",
    "plt.show()"
   ]
  },
  {
   "cell_type": "markdown",
   "metadata": {},
   "source": [
    "## $\\tau$"
   ]
  },
  {
   "cell_type": "code",
   "execution_count": 154,
   "metadata": {},
   "outputs": [],
   "source": [
    "cnd_=cluster_number_density(5000,Pc,10)"
   ]
  },
  {
   "cell_type": "code",
   "execution_count": 140,
   "metadata": {},
   "outputs": [
    {
     "data": {
      "text/plain": [
       "''"
      ]
     },
     "execution_count": 140,
     "metadata": {},
     "output_type": "execute_result"
    }
   ],
   "source": [
    "cnd=skip_ones(cnd_,10/(5000**3))\n",
    ";"
   ]
  },
  {
   "cell_type": "code",
   "execution_count": 141,
   "metadata": {},
   "outputs": [],
   "source": [
    "x=cnd[:,0]\n",
    "y=cnd[:,1]\n",
    "s, edges, _ = binned_statistic(x,y, statistic='mean', bins=np.logspace(0,5,binnetjes))\n",
    "xs = np.repeat(s,2)\n",
    "ys = np.repeat(edges,2)[1:-1]\n",
    "\n",
    "S=edges[:-1]+np.diff(edges)/2\n",
    "N=s"
   ]
  },
  {
   "cell_type": "code",
   "execution_count": 142,
   "metadata": {},
   "outputs": [],
   "source": [
    "import math\n",
    "def skip_nan(S,N):\n",
    "    s=np.array([])\n",
    "    n=np.array([])\n",
    "    for ind, el in enumerate(N):\n",
    "        if math.isnan(el)==False:\n",
    "            n=np.append(n,el)\n",
    "            s=np.append(s,S[ind])\n",
    "    return s, n"
   ]
  },
  {
   "cell_type": "code",
   "execution_count": 143,
   "metadata": {},
   "outputs": [],
   "source": [
    "[s_,n_]=skip_nan(S,N)\n",
    "xdata_tau=s_[13:]\n",
    "ydata_tau=n_[13:]"
   ]
  },
  {
   "cell_type": "code",
   "execution_count": 144,
   "metadata": {},
   "outputs": [],
   "source": [
    "popt, pcov = curve_fit(func, xdata_tau, ydata_tau)\n",
    "tau=-popt[1]"
   ]
  },
  {
   "cell_type": "code",
   "execution_count": 145,
   "metadata": {},
   "outputs": [
    {
     "data": {
      "image/png": "[encoded data removed]",
      "text/plain": [
       "<Figure size 432x288 with 1 Axes>"
      ]
     },
     "metadata": {
      "needs_background": "light"
     },
     "output_type": "display_data"
    },
    {
     "name": "stdout",
     "output_type": "stream",
     "text": [
      "tau = 2.0766205829343143\n"
     ]
    }
   ],
   "source": [
    "plt.loglog(s_,n_,'.',label='p=Pc')\n",
    "plt.loglog(s_, func(s_, *popt), 'g--')\n",
    "plt.xlim(1,150)\n",
    "plt.ylim(10**-7,0.1)\n",
    "plt.xlabel('s')\n",
    "plt.ylabel('n(s,p)')\n",
    "plt.legend()\n",
    "plt.show()\n",
    "print('tau =', tau)"
   ]
  },
  {
   "cell_type": "markdown",
   "metadata": {},
   "source": [
    "wiki: tau = 187/91=2.06 (source: https://en.wikipedia.org/wiki/Percolation_critical_exponents#Exponents_for_standard_percolation)"
   ]
  },
  {
   "cell_type": "code",
   "execution_count": 147,
   "metadata": {},
   "outputs": [
    {
     "data": {
      "text/plain": [
       "2.0549450549450547"
      ]
     },
     "execution_count": 147,
     "metadata": {},
     "output_type": "execute_result"
    }
   ],
   "source": [
    "187/91"
   ]
  },
  {
   "cell_type": "code",
   "execution_count": null,
   "metadata": {},
   "outputs": [],
   "source": []
  }
 ],
 "metadata": {
  "kernelspec": {
   "display_name": "Python 3",
   "language": "python",
   "name": "python3"
  },
  "language_info": {
   "codemirror_mode": {
    "name": "ipython",
    "version": 3
   },
   "file_extension": ".py",
   "mimetype": "text/x-python",
   "name": "python",
   "nbconvert_exporter": "python",
   "pygments_lexer": "ipython3",
   "version": "3.7.1"
  }
 },
 "nbformat": 4,
 "nbformat_minor": 2
}
