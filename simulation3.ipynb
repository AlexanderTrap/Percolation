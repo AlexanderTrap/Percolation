{
 "cells": [
  {
   "cell_type": "markdown",
   "metadata": {},
   "source": [
    "# Perculation Simulation"
   ]
  },
  {
   "cell_type": "markdown",
   "metadata": {},
   "source": [
    "## The drawing table"
   ]
  },
  {
   "cell_type": "markdown",
   "metadata": {},
   "source": [
    "First of all we have to create a grid of size L. With a $p$ probability that each of the squares inside the raster is occupied.\n",
    "We will do this by creating a matrix where all the elements are initially zero and have a chance $p$ to be 1."
   ]
  },
  {
   "cell_type": "code",
   "execution_count": 255,
   "metadata": {},
   "outputs": [],
   "source": [
    "import numpy as np\n",
    "import random\n",
    "import time\n",
    "from scipy.optimize import curve_fit\n",
    "import collections"
   ]
  },
  {
   "cell_type": "code",
   "execution_count": 10,
   "metadata": {},
   "outputs": [],
   "source": [
    "#this function will give True or False to later determine what elements will be coloured in the grid.\n",
    "def decision(probability):\n",
    "    return random.random() < probability"
   ]
  },
  {
   "cell_type": "code",
   "execution_count": 11,
   "metadata": {},
   "outputs": [],
   "source": [
    "def one_or_zero(el, probability):\n",
    "    if decision(probability):\n",
    "        return 1\n",
    "    else:\n",
    "        return 0"
   ]
  },
  {
   "cell_type": "code",
   "execution_count": 12,
   "metadata": {},
   "outputs": [],
   "source": [
    "def create_world(size,probability):\n",
    "    vector= np.zeros(size**2)  #create vector to make the iteration easier\n",
    "    vector[:] = [one_or_zero(el,probability) for el in vector]   #make certain elements one and zero depending on the prob\n",
    "    return vector.reshape(size,size)    #reshape the vector to a matrix"
   ]
  },
  {
   "cell_type": "code",
   "execution_count": 13,
   "metadata": {},
   "outputs": [
    {
     "data": {
      "text/plain": [
       "array([[0., 0., 0., 0., 0.],\n",
       "       [1., 1., 0., 1., 1.],\n",
       "       [1., 1., 1., 1., 1.],\n",
       "       [1., 1., 1., 0., 1.],\n",
       "       [1., 1., 0., 0., 0.]])"
      ]
     },
     "execution_count": 13,
     "metadata": {},
     "output_type": "execute_result"
    }
   ],
   "source": [
    "M=create_world(5,0.5)\n",
    "M"
   ]
  },
  {
   "cell_type": "code",
   "execution_count": 14,
   "metadata": {},
   "outputs": [],
   "source": [
    "from matplotlib import pyplot as plt\n",
    "from matplotlib import colors\n",
    "\n",
    "def draw_array(M):\n",
    "    cmap = colors.ListedColormap(['White','Red'])\n",
    "    plt.figure(figsize=(5,5))\n",
    "    plt.pcolor(M[::-1],cmap=cmap,edgecolors='k', linewidths=0.1)\n",
    "    plt.show()"
   ]
  },
  {
   "cell_type": "code",
   "execution_count": 15,
   "metadata": {},
   "outputs": [
    {
     "data": {
      "image/png": "[encoded data removed]",
      "text/plain": [
       "<Figure size 360x360 with 1 Axes>"
      ]
     },
     "metadata": {
      "needs_background": "light"
     },
     "output_type": "display_data"
    }
   ],
   "source": [
    "draw_array(M)"
   ]
  },
  {
   "cell_type": "markdown",
   "metadata": {},
   "source": [
    "## How to count?"
   ]
  },
  {
   "cell_type": "markdown",
   "metadata": {},
   "source": [
    "We will now implement an algoritm to count the amount of clusters in the grid. The method I have chosen is the Hoshen and Kopelman algortim."
   ]
  },
  {
   "cell_type": "markdown",
   "metadata": {},
   "source": [
    "The function below returns the number of clusters, the list in where the clusters are counted with their respective number of sites (negative means that this one is 'slorped' by another cluster), the matrix in which the different numbers can be shown,  the number of unoccupied sites and the number of the sites in the largest cluster."
   ]
  },
  {
   "cell_type": "code",
   "execution_count": 16,
   "metadata": {},
   "outputs": [],
   "source": [
    "def occupied(el):\n",
    "    return el==1"
   ]
  },
  {
   "cell_type": "markdown",
   "metadata": {},
   "source": [
    "In the method we have to keep up with the track of how the cluster size of a cluster. We do this by making a list. Which after several iterations look like this as an example:"
   ]
  },
  {
   "cell_type": "code",
   "execution_count": 17,
   "metadata": {},
   "outputs": [
    {
     "data": {
      "text/plain": [
       "array([3., 0., 3., 2., 1.])"
      ]
     },
     "execution_count": 17,
     "metadata": {},
     "output_type": "execute_result"
    }
   ],
   "source": [
    "np.array([3.,0.,3.,2.,1.])"
   ]
  },
  {
   "cell_type": "markdown",
   "metadata": {},
   "source": [
    "Because of how indexing works in Python. In the above array we have that the amount of zeros is equal to 3. The amount of cluster 2 is 3, cluster 3 is 2 etc..."
   ]
  },
  {
   "cell_type": "markdown",
   "metadata": {},
   "source": [
    "However, when two clusters meet, for example cluster 2 and 3 we merge the two clusters to the cluster of the upper one. The cluster size of 3 is transferred to cluster 2 and cluster two will be pointed to cluster 2.\n",
    "And the list should look the following:"
   ]
  },
  {
   "cell_type": "code",
   "execution_count": 18,
   "metadata": {},
   "outputs": [],
   "source": [
    "y=np.array([3.,0.,5.,-2.,1.])"
   ]
  },
  {
   "cell_type": "markdown",
   "metadata": {},
   "source": [
    "And then when we get a new occupied space that is related to cluster 3, the new zone should be counted for for the 'true label' of cluster 3, which is cluster 2.\n",
    "The following function helps us with that:"
   ]
  },
  {
   "cell_type": "code",
   "execution_count": 19,
   "metadata": {},
   "outputs": [],
   "source": [
    "def get_true_label(value,lijst):\n",
    "    true_value=value\n",
    "    if lijst[int(value)]>0:\n",
    "        true_value = true_value\n",
    "    else:\n",
    "        true_value=get_true_label(-lijst[int(value)], lijst)\n",
    "        lijst[int(value)]=-true_value\n",
    "    return true_value"
   ]
  },
  {
   "cell_type": "code",
   "execution_count": 20,
   "metadata": {},
   "outputs": [
    {
     "data": {
      "text/plain": [
       "2.0"
      ]
     },
     "execution_count": 20,
     "metadata": {},
     "output_type": "execute_result"
    }
   ],
   "source": [
    "get_true_label(3,y)"
   ]
  },
  {
   "cell_type": "code",
   "execution_count": 21,
   "metadata": {},
   "outputs": [],
   "source": [
    "Y=np.array([3.,0.,5.,-2.,-3.])"
   ]
  },
  {
   "cell_type": "markdown",
   "metadata": {},
   "source": [
    "When the upper cluster $\\textit{already}$ is pointed to another cluster we still et the true label:"
   ]
  },
  {
   "cell_type": "code",
   "execution_count": 22,
   "metadata": {},
   "outputs": [
    {
     "data": {
      "text/plain": [
       "2.0"
      ]
     },
     "execution_count": 22,
     "metadata": {},
     "output_type": "execute_result"
    }
   ],
   "source": [
    "get_true_label(4,Y)"
   ]
  },
  {
   "cell_type": "code",
   "execution_count": 23,
   "metadata": {},
   "outputs": [
    {
     "data": {
      "text/plain": [
       "array([ 3.,  0.,  5., -2., -2.])"
      ]
     },
     "execution_count": 23,
     "metadata": {},
     "output_type": "execute_result"
    }
   ],
   "source": [
    "Y"
   ]
  },
  {
   "cell_type": "markdown",
   "metadata": {},
   "source": [
    "The next function works the same way but instead it returns the value, it returns the cluster size of the 'true label'- cluster. This is needed when the cluster is being assigned, is already pointed to another cluster. "
   ]
  },
  {
   "cell_type": "code",
   "execution_count": 24,
   "metadata": {},
   "outputs": [],
   "source": [
    "def get_true_label_value(value,lijst):\n",
    "    if lijst[int(value)]>0:\n",
    "        return lijst[int(value)]\n",
    "    else:\n",
    "        return get_true_label_value(-lijst[int(value)], lijst)"
   ]
  },
  {
   "cell_type": "code",
   "execution_count": 25,
   "metadata": {},
   "outputs": [
    {
     "data": {
      "text/plain": [
       "5.0"
      ]
     },
     "execution_count": 25,
     "metadata": {},
     "output_type": "execute_result"
    }
   ],
   "source": [
    "x=np.array([3.,0.,5.,-2.,-2.])\n",
    "get_true_label_value(4,x)"
   ]
  },
  {
   "cell_type": "markdown",
   "metadata": {},
   "source": [
    "Next function counts one for the true cluster if nothing is being merged or anything."
   ]
  },
  {
   "cell_type": "code",
   "execution_count": 26,
   "metadata": {},
   "outputs": [],
   "source": [
    "def count_true_cluster(cell,lijst):\n",
    "    label=get_true_label(cell,lijst)\n",
    "    lijst[int(label)]+=1"
   ]
  },
  {
   "cell_type": "markdown",
   "metadata": {},
   "source": [
    "Now we have everything for the algoritm."
   ]
  },
  {
   "cell_type": "code",
   "execution_count": 27,
   "metadata": {
    "pixiedust": {
     "displayParams": {}
    }
   },
   "outputs": [
    {
     "data": {
      "text/plain": [
       "[1,\n",
       " array([10.,  0., -3., 15.,  0.,  0.,  0.,  0.,  0.,  0.,  0.,  0.]),\n",
       " 15.0,\n",
       " 0.6,\n",
       " array([15.]),\n",
       " [],\n",
       " 0.0]"
      ]
     },
     "execution_count": 27,
     "metadata": {},
     "output_type": "execute_result"
    }
   ],
   "source": [
    "def Hoshen_and_Kopelman(matrix):\n",
    "    U=np.copy(matrix)\n",
    "    size=len(matrix)\n",
    "    l=2\n",
    "    lijst =np.zeros(round((len(matrix)**2)/2))\n",
    "    if occupied(U[0,0]):  #first element\n",
    "        U[0,0]=l\n",
    "        lijst[l]+=1\n",
    "        l+=1\n",
    "    else:\n",
    "        lijst[0]+=1\n",
    "        \n",
    "    for j in range(len(U[0,:])-1): #top row\n",
    "        j+=1\n",
    "        if occupied(U[0,j]):\n",
    "            if U[0,j-1]!=0:         #look left\n",
    "                U[0,j]=U[0,j-1]\n",
    "                lijst[int(U[0,j-1])]+=1.\n",
    "            else:\n",
    "                U[0,j]=l\n",
    "                lijst[l]+=1\n",
    "                l+=1\n",
    "        else:\n",
    "            lijst[0]+=1\n",
    "    for i in range(len(U[0,:])-1):\n",
    "        i+=1\n",
    "        for j in range(len(U[:,0])):\n",
    "            if j==0:                           #first column does not have to look left\n",
    "                if occupied(U[i,0]):\n",
    "                    if U[i-1,0]!=0:           #look up\n",
    "                        U[i,0]=U[i-1,0]\n",
    "                        count_true_cluster(U[i,0],lijst)\n",
    "                    else:\n",
    "                        U[i,0]=l\n",
    "                        lijst[l]+=1\n",
    "                        l+=1\n",
    "                else:\n",
    "                    lijst[0]+=1\n",
    "            \n",
    "\n",
    "            elif occupied(U[i,j]):                \n",
    "                if U[(i-1),j]!=0:            #look up\n",
    "                    U[i,j]=U[i-1,j]\n",
    "                    count_true_cluster(U[i,j],lijst)\n",
    "                        \n",
    "                    if U[i,j-1]!=0:             #look left AND right to merge\n",
    "                        if get_true_label(U[i,j],lijst)!=get_true_label(U[i,j-1],lijst):  #if both elements are from the same cluster, mer\n",
    "                                \n",
    "#                               #below is the tricky part, we have to add the true label size! of left to cluster of the current one (=cluster of top one)\n",
    "                                lijst[int(get_true_label(U[i,j],lijst))]+=(get_true_label_value(U[i,j-1], lijst)) \n",
    "                                lijst[int(get_true_label(U[i,j-1],lijst))]=-U[i,j] #and now the true label of left becomes the current one\n",
    "             \n",
    "                elif U[i,j-1]!=0:         #look left\n",
    "                    U[i,j]=U[i,j-1]\n",
    "                    count_true_cluster(U[i,j],lijst)\n",
    "                    \n",
    "                else:\n",
    "                    U[i,j]=l\n",
    "                    lijst[l]+=1\n",
    "                    l+=1\n",
    "            else:\n",
    "                lijst[0]+=1\n",
    "          \n",
    "    cluster_sizes_without_largest_one= [i  for i in lijst[1:] if i>0]\n",
    "    cluster_sizes= np.copy(cluster_sizes_without_largest_one) \n",
    "    \n",
    "    number_of_clusters= len(cluster_sizes)\n",
    "    \n",
    "    largest_cluster=max(lijst[1:])\n",
    "    \n",
    "    np.array(cluster_sizes_without_largest_one.remove(largest_cluster))\n",
    "    \n",
    "    average_cluster_sizes_without_largest_one= sum(cluster_sizes_without_largest_one) / (number_of_clusters)\n",
    "    \n",
    "    fraction = largest_cluster/(size**2)\n",
    "    \n",
    "    return [number_of_clusters, lijst, largest_cluster, fraction, cluster_sizes, cluster_sizes_without_largest_one, average_cluster_sizes_without_largest_one]\n",
    "\n",
    "Hoshen_and_Kopelman(M)"
   ]
  },
  {
   "cell_type": "markdown",
   "metadata": {},
   "source": [
    "## Example"
   ]
  },
  {
   "cell_type": "code",
   "execution_count": 28,
   "metadata": {
    "pixiedust": {
     "displayParams": {}
    }
   },
   "outputs": [
    {
     "data": {
      "image/png": "[encoded data removed]",
      "text/plain": [
       "<Figure size 360x360 with 1 Axes>"
      ]
     },
     "metadata": {
      "needs_background": "light"
     },
     "output_type": "display_data"
    }
   ],
   "source": [
    "M=create_world(6,0.5)\n",
    "small_world=Hoshen_and_Kopelman(M)\n",
    "draw_array(M)"
   ]
  },
  {
   "cell_type": "markdown",
   "metadata": {},
   "source": [
    "Number of clusters:"
   ]
  },
  {
   "cell_type": "code",
   "execution_count": 29,
   "metadata": {},
   "outputs": [
    {
     "data": {
      "text/plain": [
       "3"
      ]
     },
     "execution_count": 29,
     "metadata": {},
     "output_type": "execute_result"
    }
   ],
   "source": [
    "small_world[0]"
   ]
  },
  {
   "cell_type": "markdown",
   "metadata": {},
   "source": [
    "Largest cluster size:"
   ]
  },
  {
   "cell_type": "code",
   "execution_count": 30,
   "metadata": {},
   "outputs": [
    {
     "data": {
      "text/plain": [
       "12.0"
      ]
     },
     "execution_count": 30,
     "metadata": {},
     "output_type": "execute_result"
    }
   ],
   "source": [
    "small_world[2]"
   ]
  },
  {
   "cell_type": "markdown",
   "metadata": {},
   "source": [
    "## Time"
   ]
  },
  {
   "cell_type": "code",
   "execution_count": 49,
   "metadata": {},
   "outputs": [
    {
     "data": {
      "text/plain": [
       "0.37828779220581055"
      ]
     },
     "execution_count": 49,
     "metadata": {},
     "output_type": "execute_result"
    }
   ],
   "source": [
    "M=create_world(500,0.2)\n",
    "# draw_array(M)\n",
    "toc= time.time()\n",
    "HK=Hoshen_and_Kopelman(M)\n",
    "tic = time.time()\n",
    "t=tic-toc\n",
    "t"
   ]
  },
  {
   "cell_type": "code",
   "execution_count": 50,
   "metadata": {},
   "outputs": [
    {
     "data": {
      "text/plain": [
       "array([2., 1., 1., ..., 1., 1., 1.])"
      ]
     },
     "execution_count": 50,
     "metadata": {},
     "output_type": "execute_result"
    }
   ],
   "source": [
    "HK[4]"
   ]
  },
  {
   "cell_type": "code",
   "execution_count": 51,
   "metadata": {},
   "outputs": [],
   "source": [
    "def smiley():\n",
    "    S=np.zeros(6*8).reshape(6,8)\n",
    "    S[1,2]=1\n",
    "    S[1,5]=1\n",
    "    S[-3,1]=1\n",
    "    S[-2,2:6]=1\n",
    "    S[-3,6]=1\n",
    "    draw_array(S)"
   ]
  },
  {
   "cell_type": "code",
   "execution_count": 52,
   "metadata": {},
   "outputs": [
    {
     "data": {
      "image/png": "[encoded data removed]",
      "text/plain": [
       "<Figure size 360x360 with 1 Axes>"
      ]
     },
     "metadata": {
      "needs_background": "light"
     },
     "output_type": "display_data"
    }
   ],
   "source": [
    "smiley()"
   ]
  },
  {
   "cell_type": "markdown",
   "metadata": {},
   "source": [
    "# Order Parameters"
   ]
  },
  {
   "cell_type": "code",
   "execution_count": 109,
   "metadata": {},
   "outputs": [],
   "source": [
    "def func(x, a, b):\n",
    "    return a*(x)**b"
   ]
  },
  {
   "cell_type": "code",
   "execution_count": 54,
   "metadata": {},
   "outputs": [],
   "source": [
    "var_p=np.linspace(0.1,0.5,10)\n",
    "var_p=np.append(var_p,np.linspace(0.51,0.65,num=30))\n",
    "var_p=np.append(var_p,np.linspace(0.66,0.99,num=10))\n",
    "# var_p=np.linspace(0.01,0.99,15)"
   ]
  },
  {
   "cell_type": "code",
   "execution_count": 56,
   "metadata": {},
   "outputs": [],
   "source": [
    "def perculation(x,size):\n",
    "    occupation_fraction=[]\n",
    "    average_cluster_size=[]\n",
    "    for p in x:\n",
    "        M=create_world(size,p)\n",
    "        HK=Hoshen_and_Kopelman(M)\n",
    "        occupation_fraction.append(HK[3])\n",
    "        average_cluster_size.append(HK[6])\n",
    "    return [occupation_fraction, average_cluster_size]"
   ]
  },
  {
   "cell_type": "code",
   "execution_count": 57,
   "metadata": {},
   "outputs": [],
   "source": [
    "def average(x,size, iterations):\n",
    "    count_occupation=np.zeros(len(x))\n",
    "    average_cluster_size=np.zeros(len(x))\n",
    "    for it in range(iterations):\n",
    "        a=perculation(x,size)\n",
    "        count_occupation+=a[0]\n",
    "        average_cluster_size+=a[1]\n",
    "        print(it)\n",
    "    return [count_occupation/iterations, average_cluster_size/iterations]"
   ]
  },
  {
   "cell_type": "code",
   "execution_count": 58,
   "metadata": {
    "scrolled": true
   },
   "outputs": [
    {
     "name": "stdout",
     "output_type": "stream",
     "text": [
      "0\n",
      "1\n",
      "2\n",
      "3\n",
      "4\n",
      "5\n",
      "6\n",
      "7\n",
      "8\n",
      "9\n",
      "10\n",
      "11\n",
      "12\n",
      "13\n",
      "14\n"
     ]
    },
    {
     "data": {
      "text/plain": [
       "230.69698929786682"
      ]
     },
     "execution_count": 58,
     "metadata": {},
     "output_type": "execute_result"
    }
   ],
   "source": [
    "toc= time.time()\n",
    "occupation =average(var_p,250, 15)\n",
    "tic = time.time()\n",
    "tic-toc"
   ]
  },
  {
   "cell_type": "markdown",
   "metadata": {},
   "source": [
    "## $P_c$"
   ]
  },
  {
   "cell_type": "code",
   "execution_count": 69,
   "metadata": {},
   "outputs": [
    {
     "data": {
      "text/plain": [
       "0.5872413793103448"
      ]
     },
     "execution_count": 69,
     "metadata": {},
     "output_type": "execute_result"
    }
   ],
   "source": [
    "id=next(x[0] for x in enumerate(occupation[0]) if x[1] > 0.18)\n",
    "Pc=var_p[id]\n",
    "Pc"
   ]
  },
  {
   "cell_type": "code",
   "execution_count": 338,
   "metadata": {},
   "outputs": [
    {
     "data": {
      "image/png": "[encoded data removed]",
      "text/plain": [
       "<Figure size 432x288 with 1 Axes>"
      ]
     },
     "metadata": {
      "needs_background": "light"
     },
     "output_type": "display_data"
    }
   ],
   "source": [
    "f = plt.figure()\n",
    "ax = f.add_subplot(111)\n",
    "ax.tick_params(axis=\"both\", direction=\"in\", top=True, right=True)\n",
    "\n",
    "plt.plot(var_p,Pinf)\n",
    "plt.axhline(y=0,color='grey')\n",
    "plt.axvline(x=var_p[id],color='grey')\n",
    "plt.xlabel('p')\n",
    "plt.ylabel('$P_{\\infty}$')\n",
    "plt.show()"
   ]
  },
  {
   "cell_type": "markdown",
   "metadata": {},
   "source": [
    "# $P_{\\infty}$"
   ]
  },
  {
   "cell_type": "code",
   "execution_count": 75,
   "metadata": {},
   "outputs": [],
   "source": [
    "Pinf=occupation[0]"
   ]
  },
  {
   "cell_type": "code",
   "execution_count": 123,
   "metadata": {},
   "outputs": [],
   "source": [
    "var_beta=var_p[(id+1):]\n",
    "Pinf_beta=Pinf[(id+1):]"
   ]
  },
  {
   "cell_type": "code",
   "execution_count": 125,
   "metadata": {},
   "outputs": [
    {
     "data": {
      "text/plain": [
       "array([1.22625682, 0.25945453])"
      ]
     },
     "execution_count": 125,
     "metadata": {},
     "output_type": "execute_result"
    }
   ],
   "source": [
    "popt, pcov = curve_fit(func, (var_beta- P_c),Pinf_beta)\n",
    "popt"
   ]
  },
  {
   "cell_type": "code",
   "execution_count": 156,
   "metadata": {},
   "outputs": [
    {
     "data": {
      "image/png": "[encoded data removed]",
      "text/plain": [
       "<Figure size 432x288 with 1 Axes>"
      ]
     },
     "metadata": {
      "needs_background": "light"
     },
     "output_type": "display_data"
    },
    {
     "name": "stdout",
     "output_type": "stream",
     "text": [
      "beta = 0.25945453073137115\n"
     ]
    }
   ],
   "source": [
    "f = plt.figure()\n",
    "ax = f.add_subplot(111)\n",
    "ax.tick_params(axis=\"both\", direction=\"in\", top=True, right=True)\n",
    "\n",
    "plt.scatter(var_beta- Pc,Pinf_beta)\n",
    "plt.plot((var_beta- Pc), func(var_beta- Pc, *popt), '--', color='green')\n",
    "\n",
    "plt.xscale('log')\n",
    "plt.yscale('log')\n",
    "\n",
    "plt.xlim(10**(-3), 1)\n",
    "plt.ylim(0.1, 1)\n",
    "\n",
    "plt.show()\n",
    "print('beta =', popt[1])"
   ]
  },
  {
   "cell_type": "markdown",
   "metadata": {},
   "source": [
    "## Average Cluster Size"
   ]
  },
  {
   "cell_type": "code",
   "execution_count": 160,
   "metadata": {},
   "outputs": [],
   "source": [
    "acs=occupation[1]"
   ]
  },
  {
   "cell_type": "code",
   "execution_count": 161,
   "metadata": {},
   "outputs": [
    {
     "data": {
      "image/png": "[encoded data removed]",
      "text/plain": [
       "<Figure size 432x288 with 1 Axes>"
      ]
     },
     "metadata": {
      "needs_background": "light"
     },
     "output_type": "display_data"
    }
   ],
   "source": [
    "f = plt.figure()\n",
    "ax = f.add_subplot(111)\n",
    "ax.tick_params(axis=\"both\", direction=\"in\", top=True, right=True)\n",
    "\n",
    "plt.plot(var_p,acs)\n",
    "plt.show()"
   ]
  },
  {
   "cell_type": "code",
   "execution_count": 340,
   "metadata": {},
   "outputs": [],
   "source": [
    "#positive\n",
    "var_gamma=var_beta\n",
    "acs_gamma=acs[(id+1):]\n",
    "\n",
    "#negative\n",
    "var_gamma2=var_p[:(id-1)]\n",
    "acs_gamma2=acs[:(id-1)]"
   ]
  },
  {
   "cell_type": "markdown",
   "metadata": {},
   "source": [
    "If we look at the graph below, we have to specify a cut-off value from were we want our function to be fitted."
   ]
  },
  {
   "cell_type": "code",
   "execution_count": 341,
   "metadata": {},
   "outputs": [],
   "source": [
    "cutoff=0.1\n",
    "xdata=[el for el in abs(var_gamma2-Pc) if el>cutoff]\n",
    "ydata=acs_gamma2[:len(xdata)]"
   ]
  },
  {
   "cell_type": "code",
   "execution_count": 342,
   "metadata": {},
   "outputs": [
    {
     "data": {
      "text/plain": [
       "array([ 0.6042143 , -1.07166544])"
      ]
     },
     "execution_count": 342,
     "metadata": {},
     "output_type": "execute_result"
    }
   ],
   "source": [
    "popt, pcov = curve_fit(func, (xdata),ydata)\n",
    "gamma=-popt[1]\n",
    "popt"
   ]
  },
  {
   "cell_type": "code",
   "execution_count": 343,
   "metadata": {},
   "outputs": [
    {
     "data": {
      "image/png": "[encoded data removed]",
      "text/plain": [
       "<Figure size 432x288 with 1 Axes>"
      ]
     },
     "metadata": {
      "needs_background": "light"
     },
     "output_type": "display_data"
    },
    {
     "name": "stdout",
     "output_type": "stream",
     "text": [
      "$\\gamma$= 1.0716654420960616\n"
     ]
    }
   ],
   "source": [
    "f = plt.figure()\n",
    "ax = f.add_subplot(111)\n",
    "ax.tick_params(axis=\"both\", direction=\"in\", top=True, right=True)\n",
    "\n",
    "plt.scatter(var_gamma- Pc,acs_gamma, label='$p>p_c$')\n",
    "plt.scatter((Pc-var_gamma2),acs_gamma2, label='$p<p_c$')\n",
    "plt.plot((Pc-xdata), func(Pc-xdata, *popt), '--', color='green')\n",
    "\n",
    "plt.xscale('log')\n",
    "# plt.xlim(10**(-5), 1)\n",
    "\n",
    "plt.yscale('log')\n",
    "# plt.ylim(0.1, 1)\n",
    "plt.xlabel('|Pc-P|')\n",
    "plt.ylabel('$\\chi(p)$')\n",
    "plt.legend()\n",
    "plt.show()\n",
    "print('$\\gamma$=', gamma)"
   ]
  },
  {
   "cell_type": "markdown",
   "metadata": {},
   "source": [
    "## Cluster Number Density"
   ]
  },
  {
   "cell_type": "markdown",
   "metadata": {},
   "source": [
    "The following defined function will use the result of Hoshen and Kopelman of the clusters. With the list of the clusters it will calculate the frequency of the clusters by using a dictionairy. And it wil average out in the end.\n",
    "I see it in a way to reduce 'noise'."
   ]
  },
  {
   "cell_type": "code",
   "execution_count": 269,
   "metadata": {},
   "outputs": [],
   "source": [
    "def cluster_number_density(size, p, iterations):\n",
    "    appearances=collections.defaultdict(int)\n",
    "    \n",
    "    for i in range(iterations):\n",
    "        M=create_world(size,p)\n",
    "        HK=Hoshen_and_Kopelman(M)\n",
    "        for curr in HK[4]:\n",
    "            appearances[curr] += 1\n",
    "        print('Still working')\n",
    "            \n",
    "    data = list(appearances.items())\n",
    "    \n",
    "    an_array = np.array(data)\n",
    "    an_array[:,1]=an_array[:,1]/(size)**2\n",
    "\n",
    "    an_array=an_array[np.argsort(an_array[:,0])]\n",
    "    an_array[:,1]=an_array[:,1]/iterations\n",
    "    \n",
    "    return an_array"
   ]
  },
  {
   "cell_type": "markdown",
   "metadata": {},
   "source": [
    "Example with noise"
   ]
  },
  {
   "cell_type": "code",
   "execution_count": 270,
   "metadata": {},
   "outputs": [
    {
     "name": "stdout",
     "output_type": "stream",
     "text": [
      "Still working\n"
     ]
    }
   ],
   "source": [
    "cnd=cluster_number_density(500,0.5,1)"
   ]
  },
  {
   "cell_type": "code",
   "execution_count": 334,
   "metadata": {},
   "outputs": [
    {
     "data": {
      "image/png": "[encoded data removed]",
      "text/plain": [
       "<Figure size 432x288 with 1 Axes>"
      ]
     },
     "metadata": {
      "needs_background": "light"
     },
     "output_type": "display_data"
    }
   ],
   "source": [
    "plt.plot(cnd[:,0],cnd[:,1],label='p=0.5')\n",
    "# plt.plot(10,1/(200**2),'o')\n",
    "plt.yscale('log')\n",
    "plt.ylim(10**-8, 1)\n",
    "plt.xlim(1, 10**4)\n",
    "plt.xscale('log')\n",
    "plt.xlabel('s')\n",
    "plt.ylabel('n(s,p)')\n",
    "plt.legend()\n",
    "plt.show()"
   ]
  },
  {
   "cell_type": "markdown",
   "metadata": {},
   "source": [
    "Example with less noise"
   ]
  },
  {
   "cell_type": "code",
   "execution_count": 275,
   "metadata": {},
   "outputs": [
    {
     "name": "stdout",
     "output_type": "stream",
     "text": [
      "Still working\n",
      "Still working\n",
      "Still working\n",
      "Still working\n",
      "Still working\n",
      "Still working\n",
      "Still working\n",
      "Still working\n",
      "Still working\n",
      "Still working\n",
      "Still working\n",
      "Still working\n",
      "Still working\n",
      "Still working\n",
      "Still working\n",
      "Still working\n",
      "Still working\n",
      "Still working\n",
      "Still working\n",
      "Still working\n"
     ]
    }
   ],
   "source": [
    "cnd=cluster_number_density(1000,0.59,20)\n",
    "s=cnd[:,0]\n",
    "n=cnd[:,1]"
   ]
  },
  {
   "cell_type": "code",
   "execution_count": 335,
   "metadata": {},
   "outputs": [
    {
     "data": {
      "image/png": "[encoded data removed]",
      "text/plain": [
       "<Figure size 432x288 with 1 Axes>"
      ]
     },
     "metadata": {
      "needs_background": "light"
     },
     "output_type": "display_data"
    }
   ],
   "source": [
    "f = plt.figure()\n",
    "ax = f.add_subplot(111)\n",
    "ax.tick_params(axis=\"both\", direction=\"in\", top=True, right=True)\n",
    "\n",
    "plt.plot(s,n,label='p=0.5')\n",
    "# plt.plot(10,1/(200**2),'o')\n",
    "plt.yscale('log')\n",
    "\n",
    "plt.ylim(10**-8, 1)\n",
    "plt.xlim(1, 10**4)\n",
    "\n",
    "plt.xscale('log')\n",
    "\n",
    "plt.xlabel('s')\n",
    "plt.ylabel('n(s,p)')\n",
    "\n",
    "plt.legend()\n",
    "plt.show()"
   ]
  },
  {
   "cell_type": "code",
   "execution_count": 331,
   "metadata": {},
   "outputs": [],
   "source": [
    "cut_off=70\n",
    "xdata_tau=[el for el in s if el<cut_off]\n",
    "ydata_tau=n[:len(xdata)]"
   ]
  },
  {
   "cell_type": "code",
   "execution_count": 332,
   "metadata": {},
   "outputs": [
    {
     "data": {
      "text/plain": [
       "array([ 0.01669803, -2.07459025])"
      ]
     },
     "execution_count": 332,
     "metadata": {},
     "output_type": "execute_result"
    }
   ],
   "source": [
    "popt, pcov = curve_fit(func, xdata_tau, ydata_tau)\n",
    "tau=-popt[1]\n",
    "popt"
   ]
  },
  {
   "cell_type": "code",
   "execution_count": 336,
   "metadata": {},
   "outputs": [
    {
     "data": {
      "image/png": "[encoded data removed]",
      "text/plain": [
       "<Figure size 432x288 with 1 Axes>"
      ]
     },
     "metadata": {
      "needs_background": "light"
     },
     "output_type": "display_data"
    },
    {
     "name": "stdout",
     "output_type": "stream",
     "text": [
      "tau = 2.0745902450968052\n"
     ]
    }
   ],
   "source": [
    "plt.loglog(xdata_tau,ydata_tau,label='p=0.5')\n",
    "plt.loglog(xdata_tau, func(xdata_tau, *popt), 'g--')\n",
    "plt.xlim(1,1000)\n",
    "plt.xlabel('s')\n",
    "plt.ylabel('n(s,p)')\n",
    "plt.legend()\n",
    "plt.show()\n",
    "print('tau =', tau)"
   ]
  }
 ],
 "metadata": {
  "kernelspec": {
   "display_name": "Python 3",
   "language": "python",
   "name": "python3"
  },
  "language_info": {
   "codemirror_mode": {
    "name": "ipython",
    "version": 3
   },
   "file_extension": ".py",
   "mimetype": "text/x-python",
   "name": "python",
   "nbconvert_exporter": "python",
   "pygments_lexer": "ipython3",
   "version": "3.7.1"
  }
 },
 "nbformat": 4,
 "nbformat_minor": 2
}
